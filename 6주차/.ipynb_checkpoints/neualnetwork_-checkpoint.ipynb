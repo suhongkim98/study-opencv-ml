{
 "cells": [
  {
   "cell_type": "code",
   "execution_count": null,
   "metadata": {},
   "outputs": [],
   "source": [
    "import numpy as np\n",
    "import matplotlib.pyplot as plt\n",
    "\n",
    "import tensorflow as tf\n",
    "#from tensorflow.keras.models import Sequential\n",
    "#from tensorflow.keras.layers import Dense\n",
    "\n",
    "#from tensorflow.keras.models import Sequential\n",
    "#from tensorflow.keras.layers import Dense, Flatten \n",
    "\n",
    "#from keras.models import Sequential\n",
    "#from keras.layers import Dense, Flatten \n",
    "\n",
    "from sklearn import datasets\n",
    "\n",
    "#from tensorflow import keras\n",
    "#import keras\n",
    "\n",
    "np.set_printoptions(suppress=True)\n",
    "keras.__version__"
   ]
  },
  {
   "cell_type": "markdown",
   "metadata": {},
   "source": [
    "# 1.Logistic Regression"
   ]
  },
  {
   "cell_type": "markdown",
   "metadata": {},
   "source": [
    "#### X는 4x2행렬 형태, 차원이 2개 존재함을 의미 \n",
    "#### 인풋 레이어부터 시작해서 히든레이어, 히든레이어…., 출력 레이어해서 순서대로 쌓아간다고 해서 sequential 레이어라 한다."
   ]
  },
  {
   "cell_type": "markdown",
   "metadata": {},
   "source": [
    "#### 일반적으로 사용하는 레이어가 dense 레이어\n",
    "#### 인풋은 2개지만 출력은 하나이고 시그모이드 함수를 사용\n",
    "#### 손실함수를 지정하고 adam으로 경사하강법을, 정확도로 성능측정을 하겠다."
   ]
  },
  {
   "cell_type": "code",
   "execution_count": null,
   "metadata": {},
   "outputs": [],
   "source": [
    "X = np.array([[0,0],[0,1],[1,0],[1,1]])\n",
    "#y = np.array([[0],[0],[0],[1]])\n",
    "y = np.array([[0],[1],[1],[1]])\n",
    "\n",
    "model = Sequential()\n",
    "model.add(Dense(1, activation='sigmoid'))\n",
    "model.compile(loss='binary_crossentropy', optimizer='adam', metrics=['accuracy'])"
   ]
  },
  {
   "cell_type": "code",
   "execution_count": null,
   "metadata": {},
   "outputs": [],
   "source": [
    "model.fit(X, y, epochs=10)"
   ]
  },
  {
   "cell_type": "markdown",
   "metadata": {},
   "source": [
    "#### 3000번 학습, verbose0을 주면 학습 과정이 보이지 않음"
   ]
  },
  {
   "cell_type": "code",
   "execution_count": null,
   "metadata": {},
   "outputs": [],
   "source": [
    "hist = model.fit(X, y, epochs=3000, verbose=0)"
   ]
  },
  {
   "cell_type": "code",
   "execution_count": null,
   "metadata": {},
   "outputs": [],
   "source": [
    "print(model.predict(X))"
   ]
  },
  {
   "cell_type": "code",
   "execution_count": null,
   "metadata": {},
   "outputs": [],
   "source": [
    "plt.plot(hist.history['loss'])"
   ]
  },
  {
   "cell_type": "code",
   "execution_count": null,
   "metadata": {},
   "outputs": [],
   "source": [
    "plt.plot(hist.history['accuracy'])"
   ]
  },
  {
   "cell_type": "markdown",
   "metadata": {},
   "source": [
    "# 2.SoftMax Classification"
   ]
  },
  {
   "cell_type": "code",
   "execution_count": 9,
   "metadata": {},
   "outputs": [],
   "source": [
    "iris = datasets.load_iris()\n",
    "X = iris.data\n",
    "y = iris.target\n",
    "y_e = np.eye(3)[y]"
   ]
  },
  {
   "cell_type": "markdown",
   "metadata": {},
   "source": [
    "#### 인풋이 4개가 각각 들어가는 출력이 3개 형태인 하나의 신경망이 된다 \n",
    "#### 멀티클래스의 경우 categorical_cross…라는 손실함수 사용해야함"
   ]
  },
  {
   "cell_type": "code",
   "execution_count": 10,
   "metadata": {},
   "outputs": [],
   "source": [
    "model = Sequential()\n",
    "model.add(Dense(3, input_dim=4, activation='softmax'))\n",
    "model.compile(loss='categorical_crossentropy', optimizer='adam', metrics=['accuracy'])"
   ]
  },
  {
   "cell_type": "code",
   "execution_count": 11,
   "metadata": {},
   "outputs": [
    {
     "name": "stdout",
     "output_type": "stream",
     "text": [
      "Epoch 1/4\n",
      "150/150 [==============================] - 0s 2ms/step - loss: 3.0007 - accuracy: 0.3333\n",
      "Epoch 2/4\n",
      "150/150 [==============================] - 0s 51us/step - loss: 2.8989 - accuracy: 0.3333\n",
      "Epoch 3/4\n",
      "150/150 [==============================] - 0s 56us/step - loss: 2.8043 - accuracy: 0.3333\n",
      "Epoch 4/4\n",
      "150/150 [==============================] - 0s 58us/step - loss: 2.7089 - accuracy: 0.3333\n"
     ]
    },
    {
     "data": {
      "text/plain": [
       "<keras.callbacks.callbacks.History at 0x24cd0e3d860>"
      ]
     },
     "execution_count": 11,
     "metadata": {},
     "output_type": "execute_result"
    }
   ],
   "source": [
    "model.fit(X, y_e, epochs=4)"
   ]
  },
  {
   "cell_type": "code",
   "execution_count": 12,
   "metadata": {},
   "outputs": [],
   "source": [
    "hist = model.fit(X, y_e, epochs=2000, verbose=0)"
   ]
  },
  {
   "cell_type": "markdown",
   "metadata": {},
   "source": [
    "#### 두 셀 모두 인식률을 계산하는 방법이지만 보통 evaluate를 사용"
   ]
  },
  {
   "cell_type": "code",
   "execution_count": 13,
   "metadata": {},
   "outputs": [
    {
     "name": "stdout",
     "output_type": "stream",
     "text": [
      "0.9666666666666667\n"
     ]
    }
   ],
   "source": [
    "y_pred = model.predict_classes(X)\n",
    "print(np.mean(y_pred==y))"
   ]
  },
  {
   "cell_type": "code",
   "execution_count": 14,
   "metadata": {},
   "outputs": [
    {
     "name": "stdout",
     "output_type": "stream",
     "text": [
      "150/150 [==============================] - 0s 195us/step\n",
      "[0.11807605306307475, 0.9666666388511658]\n"
     ]
    }
   ],
   "source": [
    "accuracy = model.evaluate(X, y_e)\n",
    "print(accuracy)"
   ]
  },
  {
   "cell_type": "code",
   "execution_count": 15,
   "metadata": {},
   "outputs": [
    {
     "data": {
      "text/plain": [
       "[<matplotlib.lines.Line2D at 0x24cd20150b8>]"
      ]
     },
     "execution_count": 15,
     "metadata": {},
     "output_type": "execute_result"
    },
    {
     "data": {
      "image/png": "[encoded data removed]",
      "text/plain": [
       "<Figure size 432x288 with 2 Axes>"
      ]
     },
     "metadata": {
      "needs_background": "light"
     },
     "output_type": "display_data"
    }
   ],
   "source": [
    "plt.subplot(1,2,1)\n",
    "plt.plot(hist.history['loss'])\n",
    "plt.subplot(1,2,2)\n",
    "plt.plot(hist.history['accuracy'])"
   ]
  },
  {
   "cell_type": "markdown",
   "metadata": {},
   "source": [
    "# 3.XOR Classification"
   ]
  },
  {
   "cell_type": "markdown",
   "metadata": {},
   "source": [
    "#### 이와같이 퍼셉트론으로는 xor문제를 풀 수 없음을 알 수 있다 인식률이 50%"
   ]
  },
  {
   "cell_type": "code",
   "execution_count": 16,
   "metadata": {},
   "outputs": [
    {
     "name": "stdout",
     "output_type": "stream",
     "text": [
      "[[0.50000006]\n",
      " [0.50000006]\n",
      " [0.5       ]\n",
      " [0.5       ]]\n"
     ]
    }
   ],
   "source": [
    "X = np.array([[0,0],[0,1],[1,0],[1,1]])\n",
    "y = np.array([[0],[1],[1],[0]])\n",
    "\n",
    "model = Sequential()\n",
    "model.add(Dense(1, activation='sigmoid'))\n",
    "model.compile(loss='binary_crossentropy', optimizer='adam')\n",
    "model.fit(X, y,  epochs=7000, verbose=0)\n",
    "print(model.predict(X))"
   ]
  },
  {
   "cell_type": "markdown",
   "metadata": {},
   "source": [
    "#### 입력데이터는 2개, 히든층의 유닛은 5개(렐루), 출력층의 유닛은 1개(시그모이드), 출력층은 꼭 시그모이드로 해야한다"
   ]
  },
  {
   "cell_type": "code",
   "execution_count": 17,
   "metadata": {},
   "outputs": [
    {
     "name": "stdout",
     "output_type": "stream",
     "text": [
      "[[0.16600843]\n",
      " [0.9810446 ]\n",
      " [0.87415487]\n",
      " [0.13347138]]\n"
     ]
    }
   ],
   "source": [
    "X = np.array([[0,0],[0,1],[1,0],[1,1]])\n",
    "y = np.array([[0],[1],[1],[0]])\n",
    "\n",
    "model = Sequential()\n",
    "model.add(Dense(5, activation='relu'))\n",
    "model.add(Dense(1, activation='sigmoid'))\n",
    "model.compile(loss='binary_crossentropy', optimizer='adam')\n",
    "model.fit(X, y,  epochs=2000, verbose=0)\n",
    "print(model.predict(X))"
   ]
  },
  {
   "cell_type": "code",
   "execution_count": 18,
   "metadata": {},
   "outputs": [
    {
     "name": "stdout",
     "output_type": "stream",
     "text": [
      "[[0.04115046]\n",
      " [0.6593648 ]\n",
      " [0.6600459 ]\n",
      " [0.6632154 ]]\n"
     ]
    }
   ],
   "source": [
    "X = np.array([[0,0],[0,1],[1,0],[1,1]])\n",
    "y = np.array([[0],[1],[1],[0]])\n",
    "\n",
    "model = Sequential()\n",
    "model.add(Dense(5, activation='sigmoid'))\n",
    "model.add(Dense(5, activation='sigmoid'))\n",
    "model.add(Dense(5, activation='sigmoid'))\n",
    "model.add(Dense(5, activation='sigmoid'))\n",
    "model.add(Dense(5, activation='sigmoid'))\n",
    "model.add(Dense(5, activation='sigmoid'))\n",
    "model.add(Dense(1, activation='sigmoid'))\n",
    "model.compile(loss='binary_crossentropy', optimizer='adam')\n",
    "model.fit(X, y,  epochs=800, verbose=0)\n",
    "print(model.predict(X))"
   ]
  },
  {
   "cell_type": "code",
   "execution_count": 19,
   "metadata": {},
   "outputs": [
    {
     "name": "stdout",
     "output_type": "stream",
     "text": [
      "[[0.01905996]\n",
      " [0.9985258 ]\n",
      " [0.99885917]\n",
      " [0.01906523]]\n"
     ]
    }
   ],
   "source": [
    "X = np.array([[0,0],[0,1],[1,0],[1,1]])\n",
    "y = np.array([[0],[1],[1],[0]])\n",
    "\n",
    "model = Sequential()\n",
    "model.add(Dense(5, activation='relu'))\n",
    "model.add(Dense(5, activation='relu'))\n",
    "model.add(Dense(5, activation='relu'))\n",
    "model.add(Dense(5, activation='relu'))\n",
    "model.add(Dense(5, activation='relu'))\n",
    "model.add(Dense(5, activation='relu'))\n",
    "\n",
    "model.add(Dense(1, activation='sigmoid'))\n",
    "model.compile(loss='binary_crossentropy', optimizer='adam')\n",
    "model.fit(X, y,  epochs=800, verbose=0)\n",
    "print(model.predict(X))"
   ]
  },
  {
   "cell_type": "code",
   "execution_count": 34,
   "metadata": {},
   "outputs": [
    {
     "name": "stderr",
     "output_type": "stream",
     "text": [
      "d:\\Anaconda3\\lib\\site-packages\\keras\\activations.py:235: UserWarning: Do not pass a layer instance (such as LeakyReLU) as the activation argument of another layer. Instead, advanced activation layers should be used just like any other layer in a model.\n",
      "  identifier=identifier.__class__.__name__))\n"
     ]
    },
    {
     "name": "stdout",
     "output_type": "stream",
     "text": [
      "[[0.00682255]\n",
      " [0.9779317 ]\n",
      " [0.9468709 ]\n",
      " [0.02422553]]\n"
     ]
    }
   ],
   "source": [
    "X = np.array([[0,0],[0,1],[1,0],[1,1]])\n",
    "y = np.array([[0],[1],[1],[0]])\n",
    "\n",
    "model = Sequential()\n",
    "model.add(Dense(5, activation=keras.layers.LeakyReLU()))\n",
    "model.add(Dense(5, activation=keras.layers.LeakyReLU()))\n",
    "model.add(Dense(5, activation=keras.layers.LeakyReLU()))\n",
    "model.add(Dense(5, activation=keras.layers.LeakyReLU()))\n",
    "model.add(Dense(5, activation=keras.layers.LeakyReLU()))\n",
    "model.add(Dense(5, activation=keras.layers.LeakyReLU()))\n",
    "model.add(Dense(1, activation='sigmoid'))\n",
    "model.compile(loss='binary_crossentropy', optimizer='adam')\n",
    "model.fit(X, y,  epochs=300, verbose=0)\n",
    "print(model.predict(X))"
   ]
  },
  {
   "cell_type": "markdown",
   "metadata": {},
   "source": [
    "# 4.Fashion Image Recognition¶"
   ]
  },
  {
   "cell_type": "markdown",
   "metadata": {},
   "source": [
    "#### 학습 데이터를 255로 나누어 정규화"
   ]
  },
  {
   "cell_type": "code",
   "execution_count": 23,
   "metadata": {},
   "outputs": [
    {
     "name": "stdout",
     "output_type": "stream",
     "text": [
      "(60000, 28, 28)\n",
      "(60000,)\n",
      "(10000, 28, 28)\n",
      "(10000,)\n"
     ]
    }
   ],
   "source": [
    "class_names = ['T-shirt/top', 'Trouser', 'Pullover', 'Dress', 'Coat',\n",
    "               'Sandal', 'Shirt', 'Sneaker', 'Bag', 'Ankle boot']\n",
    "\n",
    "(x_train, y_train), (x_test, y_test) = keras.datasets.fashion_mnist.load_data()\n",
    "x_train, x_test = x_train / 255.0, x_test / 255.0\n",
    "\n",
    "y_train_e = np.eye(10)[y_train]\n",
    "\n",
    "print(x_train.shape)\n",
    "print(y_train.shape)\n",
    "print(x_test.shape)\n",
    "print(y_test.shape)"
   ]
  },
  {
   "cell_type": "code",
   "execution_count": 24,
   "metadata": {},
   "outputs": [
    {
     "data": {
      "text/plain": [
       "Text(0.5, 1.0, 'Ankle boot')"
      ]
     },
     "execution_count": 24,
     "metadata": {},
     "output_type": "execute_result"
    },
    {
     "data": {
      "image/png": "[encoded data removed]",
      "text/plain": [
       "<Figure size 432x288 with 1 Axes>"
      ]
     },
     "metadata": {
      "needs_background": "light"
     },
     "output_type": "display_data"
    }
   ],
   "source": [
    "plt.imshow(x_train[0], cmap='gray')\n",
    "plt.title(class_names[y_train[0]])"
   ]
  },
  {
   "cell_type": "markdown",
   "metadata": {},
   "source": [
    "#### 2차원 데이터를 1차원으로 reshape, 28 x 28은 784이고 -1을 주면 전체데이터(60000개)를 의미"
   ]
  },
  {
   "cell_type": "markdown",
   "metadata": {},
   "source": [
    "#### 히든층의 유닛은 128개, 출력층의 유닛은 10개(클래스가 10개라서)"
   ]
  },
  {
   "cell_type": "code",
   "execution_count": 27,
   "metadata": {},
   "outputs": [
    {
     "name": "stdout",
     "output_type": "stream",
     "text": [
      "Epoch 1/10\n",
      "60000/60000 [==============================] - 6s 104us/step - loss: 0.5021 - accuracy: 0.8238\n",
      "Epoch 2/10\n",
      "60000/60000 [==============================] - 6s 94us/step - loss: 0.3769 - accuracy: 0.8636\n",
      "Epoch 3/10\n",
      "60000/60000 [==============================] - 5s 90us/step - loss: 0.3386 - accuracy: 0.8763\n",
      "Epoch 4/10\n",
      "60000/60000 [==============================] - 6s 101us/step - loss: 0.3135 - accuracy: 0.8849\n",
      "Epoch 5/10\n",
      "60000/60000 [==============================] - 6s 94us/step - loss: 0.2942 - accuracy: 0.8914\n",
      "Epoch 6/10\n",
      "60000/60000 [==============================] - 5s 89us/step - loss: 0.2795 - accuracy: 0.8976\n",
      "Epoch 7/10\n",
      "60000/60000 [==============================] - 5s 90us/step - loss: 0.2660 - accuracy: 0.9007\n",
      "Epoch 8/10\n",
      "60000/60000 [==============================] - 5s 91us/step - loss: 0.2551 - accuracy: 0.9054\n",
      "Epoch 9/10\n",
      "60000/60000 [==============================] - 6s 92us/step - loss: 0.2448 - accuracy: 0.9087\n",
      "Epoch 10/10\n",
      "60000/60000 [==============================] - 5s 89us/step - loss: 0.2380 - accuracy: 0.9103\n"
     ]
    },
    {
     "data": {
      "text/plain": [
       "<keras.callbacks.callbacks.History at 0x24cdb21c550>"
      ]
     },
     "execution_count": 27,
     "metadata": {},
     "output_type": "execute_result"
    }
   ],
   "source": [
    "x_train_1d = x_train.reshape(-1, 784)\n",
    "\n",
    "model = Sequential()\n",
    "model.add(Dense(128, activation='relu',input_shape=(784,)))\n",
    "model.add(Dense(10, activation='softmax'))\n",
    "model.compile(loss='categorical_crossentropy', optimizer=\"adam\", metrics=[\"accuracy\"])\n",
    "model.fit(x_train_1d, y_train_e, epochs=10)"
   ]
  },
  {
   "cell_type": "markdown",
   "metadata": {},
   "source": [
    "#### 위에서는 2차원을 1차원으로 임의로 변경해 넣었는데 그렇게 하지말고 flattern을 이용해 내부적으로 2차원을 1차원으로 바꾸자"
   ]
  },
  {
   "cell_type": "code",
   "execution_count": 30,
   "metadata": {},
   "outputs": [
    {
     "name": "stdout",
     "output_type": "stream",
     "text": [
      "Epoch 1/10\n",
      "60000/60000 [==============================] - 6s 93us/step - loss: 0.5012 - accuracy: 0.8232\n",
      "Epoch 2/10\n",
      "60000/60000 [==============================] - 6s 94us/step - loss: 0.3752 - accuracy: 0.8644\n",
      "Epoch 3/10\n",
      "60000/60000 [==============================] - 5s 90us/step - loss: 0.3353 - accuracy: 0.8778\n",
      "Epoch 4/10\n",
      "60000/60000 [==============================] - 6s 92us/step - loss: 0.3149 - accuracy: 0.8840\n",
      "Epoch 5/10\n",
      "60000/60000 [==============================] - 5s 92us/step - loss: 0.2947 - accuracy: 0.8921\n",
      "Epoch 6/10\n",
      "60000/60000 [==============================] - 5s 89us/step - loss: 0.2802 - accuracy: 0.8956\n",
      "Epoch 7/10\n",
      "60000/60000 [==============================] - 5s 90us/step - loss: 0.2683 - accuracy: 0.9004\n",
      "Epoch 8/10\n",
      "60000/60000 [==============================] - 5s 87us/step - loss: 0.2558 - accuracy: 0.9053\n",
      "Epoch 9/10\n",
      "60000/60000 [==============================] - 5s 92us/step - loss: 0.2482 - accuracy: 0.9075\n",
      "Epoch 10/10\n",
      "60000/60000 [==============================] - 5s 89us/step - loss: 0.2377 - accuracy: 0.9117\n"
     ]
    },
    {
     "data": {
      "text/plain": [
       "<keras.callbacks.callbacks.History at 0x24cdb355f28>"
      ]
     },
     "execution_count": 30,
     "metadata": {},
     "output_type": "execute_result"
    }
   ],
   "source": [
    "model = Sequential()\n",
    "model.add(Flatten(input_shape=(28, 28)))\n",
    "model.add(Dense(128, activation='relu'))\n",
    "model.add(Dense(10, activation='softmax'))\n",
    "model.compile(loss='categorical_crossentropy', optimizer='adam', metrics=['accuracy'])\n",
    "model.fit(x_train, y_train_e, epochs=10)"
   ]
  },
  {
   "cell_type": "markdown",
   "metadata": {},
   "source": [
    "#### 앞에서는 one hot encoding으로 변경해주는 작업을 했었는데 로스함수에 sparse_를 앞에 붙여서 일반 레이블 표기법으로 학습 가능"
   ]
  },
  {
   "cell_type": "code",
   "execution_count": 33,
   "metadata": {},
   "outputs": [
    {
     "name": "stdout",
     "output_type": "stream",
     "text": [
      "Epoch 1/2\n",
      "60000/60000 [==============================] - 6s 100us/step - loss: 0.5046 - accuracy: 0.8225\n",
      "Epoch 2/2\n",
      "60000/60000 [==============================] - 6s 96us/step - loss: 0.3814 - accuracy: 0.8628\n"
     ]
    },
    {
     "data": {
      "text/plain": [
       "<keras.callbacks.callbacks.History at 0x24cdb4d1be0>"
      ]
     },
     "execution_count": 33,
     "metadata": {},
     "output_type": "execute_result"
    }
   ],
   "source": [
    "model = Sequential()\n",
    "model.add(Flatten(input_shape=(28, 28)))\n",
    "model.add(Dense(128, activation='relu'))\n",
    "model.add(Dense(10, activation='softmax'))\n",
    "model.compile(loss='sparse_categorical_crossentropy', optimizer='adam', metrics=['accuracy'])\n",
    "model.fit(x_train, y_train, epochs =10)"
   ]
  }
 ],
 "metadata": {
  "kernelspec": {
   "display_name": "Python 3 (ipykernel)",
   "language": "python",
   "name": "python3"
  },
  "language_info": {
   "codemirror_mode": {
    "name": "ipython",
    "version": 3
   },
   "file_extension": ".py",
   "mimetype": "text/x-python",
   "name": "python",
   "nbconvert_exporter": "python",
   "pygments_lexer": "ipython3",
   "version": "3.9.1"
  }
 },
 "nbformat": 4,
 "nbformat_minor": 2
}
