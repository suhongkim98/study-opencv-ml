{
 "cells": [
  {
   "cell_type": "code",
   "execution_count": 7,
   "metadata": {},
   "outputs": [],
   "source": [
    "import numpy as np\n",
    "import numpy.linalg as lin"
   ]
  },
  {
   "cell_type": "markdown",
   "metadata": {},
   "source": [
    "# 1. 오차"
   ]
  },
  {
   "cell_type": "code",
   "execution_count": 3,
   "metadata": {},
   "outputs": [
    {
     "name": "stdout",
     "output_type": "stream",
     "text": [
      "[12 14 16 18 20 22 24]\n"
     ]
    }
   ],
   "source": [
    "x = np.array([1,2,3,4,5,6,7])\n",
    "y = np.array([11, 15, 16, 19, 21, 23, 25])\n",
    "w = 2\n",
    "b = 10\n",
    "\n",
    "h = w*x + b\n",
    "print(h)"
   ]
  },
  {
   "cell_type": "code",
   "execution_count": 4,
   "metadata": {},
   "outputs": [
    {
     "name": "stdout",
     "output_type": "stream",
     "text": [
      "[-1  1  0  1  1  1  1]\n",
      "6\n"
     ]
    }
   ],
   "source": [
    "print(y-h)\n",
    "print( np.sum(   np.abs(y - h  )) )"
   ]
  },
  {
   "cell_type": "code",
   "execution_count": 5,
   "metadata": {},
   "outputs": [
    {
     "name": "stdout",
     "output_type": "stream",
     "text": [
      "0.9258200997725514\n"
     ]
    }
   ],
   "source": [
    "RMSE = np.sqrt(np.mean((y-h)**2))\n",
    "print(RMSE)"
   ]
  },
  {
   "cell_type": "code",
   "execution_count": 6,
   "metadata": {},
   "outputs": [
    {
     "name": "stdout",
     "output_type": "stream",
     "text": [
      "6.600865744084526\n"
     ]
    }
   ],
   "source": [
    "w2 = 4\n",
    "b2 = -3\n",
    "\n",
    "h2 = w2*x + b2\n",
    "\n",
    "RMSE2 = np.sqrt(np.mean((y-h2)**2))\n",
    "print(RMSE2)"
   ]
  },
  {
   "cell_type": "markdown",
   "metadata": {},
   "source": [
    "# 2. 행렬"
   ]
  },
  {
   "cell_type": "code",
   "execution_count": 7,
   "metadata": {},
   "outputs": [
    {
     "name": "stdout",
     "output_type": "stream",
     "text": [
      "[2 3 5]\n",
      "[1 7 6]\n",
      "[2 1]\n",
      "[3 7]\n",
      "[5 6]\n"
     ]
    }
   ],
   "source": [
    "A = np.array([[2,3,5],\n",
    "              [1,7,6]])\n",
    "\n",
    "print(A[0,:])\n",
    "print(A[1,:])\n",
    "print(A[:,0])\n",
    "print(A[:,1])\n",
    "print(A[:,2])"
   ]
  },
  {
   "cell_type": "code",
   "execution_count": 8,
   "metadata": {},
   "outputs": [
    {
     "name": "stdout",
     "output_type": "stream",
     "text": [
      "[[2 3 5]\n",
      " [1 7 6]]\n",
      "[[2 1]\n",
      " [3 7]\n",
      " [5 6]]\n"
     ]
    }
   ],
   "source": [
    "A = np.array([[2,3,5],\n",
    "              [1,7,6]])\n",
    "B = A.T\n",
    "print(A)\n",
    "print(B)"
   ]
  },
  {
   "cell_type": "code",
   "execution_count": 9,
   "metadata": {},
   "outputs": [
    {
     "name": "stdout",
     "output_type": "stream",
     "text": [
      "(1, 7)\n",
      "7\n",
      "[[0 1 2 3 4 5 6]]\n",
      "(7, 1)\n",
      "[[0]\n",
      " [1]\n",
      " [2]\n",
      " [3]\n",
      " [4]\n",
      " [5]\n",
      " [6]]\n"
     ]
    }
   ],
   "source": [
    "A = np.array([[0,1,2,3,4,5,6]])\n",
    "print(A.shape)\n",
    "print(A.shape[1])\n",
    "print(A)\n",
    "\n",
    "B = np.array([[0,1,2,3,4,5,6]]).T\n",
    "print(B.shape)\n",
    "print(B)"
   ]
  },
  {
   "cell_type": "markdown",
   "metadata": {},
   "source": [
    "# 3. 행렬곱"
   ]
  },
  {
   "cell_type": "code",
   "execution_count": 11,
   "metadata": {},
   "outputs": [
    {
     "name": "stdout",
     "output_type": "stream",
     "text": [
      "[[2 3 5]\n",
      " [1 7 6]]\n",
      "[[2 1]\n",
      " [3 7]\n",
      " [5 6]]\n",
      "[[38 53]\n",
      " [53 86]]\n"
     ]
    }
   ],
   "source": [
    "A = np.array([[2,3,5],\n",
    "              [1,7,6]])\n",
    "\n",
    "B = A.T\n",
    "\n",
    "C = np.matmul(A,B)\n",
    "print(A)\n",
    "print(B)\n",
    "print(C)"
   ]
  },
  {
   "cell_type": "markdown",
   "metadata": {},
   "source": [
    "# 4. 역행렬, 의사역행렬"
   ]
  },
  {
   "cell_type": "code",
   "execution_count": 10,
   "metadata": {},
   "outputs": [
    {
     "name": "stdout",
     "output_type": "stream",
     "text": [
      "[[1 0]\n",
      " [0 1]]\n"
     ]
    }
   ],
   "source": [
    "A = np.array([ [1,3],\n",
    "              [2,5] ])\n",
    "\n",
    "B = np.array([ [-5,3],\n",
    "              [2,-1] ])\n",
    "\n",
    "C = np.matmul(A, B)\n",
    "print(C)"
   ]
  },
  {
   "cell_type": "code",
   "execution_count": 11,
   "metadata": {},
   "outputs": [
    {
     "name": "stdout",
     "output_type": "stream",
     "text": [
      "[[-5.  3.]\n",
      " [ 2. -1.]]\n"
     ]
    }
   ],
   "source": [
    "D = lin.inv(A)\n",
    "print(D)"
   ]
  },
  {
   "cell_type": "code",
   "execution_count": 12,
   "metadata": {},
   "outputs": [
    {
     "name": "stdout",
     "output_type": "stream",
     "text": [
      "[[-5.00000000e-01  2.08166817e-16  5.00000000e-01]\n",
      " [ 1.33333333e+00  3.33333333e-01 -6.66666667e-01]]\n"
     ]
    }
   ],
   "source": [
    "#의사\n",
    "A = np.array([[1,1],\n",
    "              [2,1],\n",
    "              [3,1]\n",
    "             ])\n",
    "\n",
    "P = lin.pinv(A)\n",
    "\n",
    "print(P)"
   ]
  },
  {
   "cell_type": "code",
   "execution_count": 13,
   "metadata": {},
   "outputs": [],
   "source": [
    "np.set_printoptions(suppress=True)"
   ]
  },
  {
   "cell_type": "code",
   "execution_count": 14,
   "metadata": {},
   "outputs": [
    {
     "name": "stdout",
     "output_type": "stream",
     "text": [
      "[[-0.5         0.          0.5       ]\n",
      " [ 1.33333333  0.33333333 -0.66666667]]\n"
     ]
    }
   ],
   "source": [
    "print(P)"
   ]
  },
  {
   "cell_type": "code",
   "execution_count": 18,
   "metadata": {},
   "outputs": [
    {
     "name": "stdout",
     "output_type": "stream",
     "text": [
      "[[ 1. -0.]\n",
      " [-0.  1.]]\n"
     ]
    }
   ],
   "source": [
    "print( np.matmul(P,A)  )"
   ]
  },
  {
   "cell_type": "markdown",
   "metadata": {},
   "source": [
    "\n",
    "# 5 역행렬, 의사역행렬을 이용한 솔루션"
   ]
  },
  {
   "cell_type": "code",
   "execution_count": 19,
   "metadata": {},
   "outputs": [
    {
     "name": "stdout",
     "output_type": "stream",
     "text": [
      "[[-1.  1.]\n",
      " [ 2. -1.]]\n",
      "[[2.]\n",
      " [1.]]\n"
     ]
    }
   ],
   "source": [
    "A = np.array([ [1,1], \n",
    "      [2,1]])\n",
    "\n",
    "y = np.array([[3], [5]])\n",
    "\n",
    "inv = lin.inv(A)\n",
    "print(inv)\n",
    "\n",
    "W = np.matmul(inv, y) \n",
    "print(W)"
   ]
  },
  {
   "cell_type": "code",
   "execution_count": 22,
   "metadata": {},
   "outputs": [
    {
     "name": "stdout",
     "output_type": "stream",
     "text": [
      "(2, 1)\n",
      "2.0\n",
      "1.0\n"
     ]
    }
   ],
   "source": [
    "print(W.shape)\n",
    "print(W[0,0])\n",
    "print(W[1,0])"
   ]
  },
  {
   "cell_type": "code",
   "execution_count": 23,
   "metadata": {},
   "outputs": [
    {
     "name": "stdout",
     "output_type": "stream",
     "text": [
      "[[-0.5        -0.          0.5       ]\n",
      " [ 1.33333333  0.33333333 -0.66666667]]\n",
      "[[ 2.2       ]\n",
      " [-0.13333333]]\n"
     ]
    }
   ],
   "source": [
    "A = np.array([[1,1],\n",
    "              [2,1],\n",
    "            [3,1]])\n",
    "\n",
    "y = np.array([[2], [4.4], [6.4]])\n",
    "\n",
    "\n",
    "inv = lin.pinv(A)\n",
    "print(inv)\n",
    "\n",
    "W = np.matmul(inv, y) \n",
    "print(W)"
   ]
  },
  {
   "cell_type": "markdown",
   "metadata": {},
   "source": [
    "# 6. 시간에 따른 무게 변화"
   ]
  },
  {
   "cell_type": "code",
   "execution_count": 24,
   "metadata": {},
   "outputs": [
    {
     "name": "stdout",
     "output_type": "stream",
     "text": [
      "[[-0.03 -0.01  0.01  0.03]\n",
      " [ 1.    0.5   0.   -0.5 ]]\n",
      "[[-2.1]\n",
      " [89.5]]\n"
     ]
    }
   ],
   "source": [
    "A = np.array([[10,1],\n",
    "              [20,1],\n",
    "              [30,1],\n",
    "              [40,1]])\n",
    "\n",
    "y = np.array([[71], [45], [24], [8]])\n",
    "\n",
    "\n",
    "inv = lin.pinv(A)\n",
    "print(inv)\n",
    "\n",
    "W = np.matmul(inv, y) \n",
    "print(W)"
   ]
  },
  {
   "cell_type": "markdown",
   "metadata": {},
   "source": [
    "# 7. 주가 예측"
   ]
  },
  {
   "cell_type": "code",
   "execution_count": 16,
   "metadata": {},
   "outputs": [],
   "source": [
    "Interest_Rate =  np.array([2.75,2.5,2.5,2.5,2.5,2.5,2.5,2.25,2.25,2.25,\n",
    "                  2,2,2,1.75,1.75,1.75,1.75,1.75,1.75,1.75,1.75,1.75,1.75 , 1.75])\n",
    "Unemployment_Rate = np.array([5.3,5.3,5.3,5.3,5.4,5.6,5.5,5.5,\n",
    "                     5.5,5.6,5.7,5.9,6,5.9,5.8,6.1,6.2,6.1,6.1,6.1,5.9,6.2,6.2 , 6.1])\n",
    "Stock_Index_Price = np.array([1464,1394,1357,1293,1256,1254,\n",
    "                     1234,1195,1159,1167,1130,1075,1047,965,943,958,971,949,884,866,876,822,704,719])"
   ]
  },
  {
   "cell_type": "code",
   "execution_count": 18,
   "metadata": {},
   "outputs": [
    {
     "name": "stdout",
     "output_type": "stream",
     "text": [
      "(24, 2)\n",
      "[[2.75 5.3 ]\n",
      " [2.5  5.3 ]\n",
      " [2.5  5.3 ]\n",
      " [2.5  5.3 ]\n",
      " [2.5  5.4 ]\n",
      " [2.5  5.6 ]\n",
      " [2.5  5.5 ]\n",
      " [2.25 5.5 ]\n",
      " [2.25 5.5 ]\n",
      " [2.25 5.6 ]\n",
      " [2.   5.7 ]\n",
      " [2.   5.9 ]\n",
      " [2.   6.  ]\n",
      " [1.75 5.9 ]\n",
      " [1.75 5.8 ]\n",
      " [1.75 6.1 ]\n",
      " [1.75 6.2 ]\n",
      " [1.75 6.1 ]\n",
      " [1.75 6.1 ]\n",
      " [1.75 6.1 ]\n",
      " [1.75 5.9 ]\n",
      " [1.75 6.2 ]\n",
      " [1.75 6.2 ]\n",
      " [1.75 6.1 ]]\n"
     ]
    }
   ],
   "source": [
    "A = np.hstack((Interest_Rate.reshape(24,1), Unemployment_Rate.reshape(24,1)))\n",
    "print(A.shape)\n",
    "print(A)"
   ]
  },
  {
   "cell_type": "code",
   "execution_count": 31,
   "metadata": {},
   "outputs": [
    {
     "name": "stdout",
     "output_type": "stream",
     "text": [
      "(24, 3)\n"
     ]
    }
   ],
   "source": [
    "A = np.hstack((A, np.ones((24,1))))\n",
    "print(A.shape)"
   ]
  },
  {
   "cell_type": "code",
   "execution_count": 32,
   "metadata": {},
   "outputs": [],
   "source": [
    "y = Stock_Index_Price.reshape(24,1)"
   ]
  },
  {
   "cell_type": "code",
   "execution_count": 34,
   "metadata": {},
   "outputs": [
    {
     "name": "stdout",
     "output_type": "stream",
     "text": [
      "[[ 345.54008701]\n",
      " [-250.14657137]\n",
      " [1798.40397763]]\n",
      "345.5400870105674\n",
      "-250.14657136938035\n",
      "1798.4039776258523\n"
     ]
    }
   ],
   "source": [
    "W = np.matmul(lin.pinv(A), y)\n",
    "print(W) # 주가 = 345.543*이자률  - 250.14*실업률 + 1798\n",
    "print(W[0,0])\n",
    "print(W[1,0])\n",
    "print(W[2,0])"
   ]
  },
  {
   "cell_type": "code",
   "execution_count": 37,
   "metadata": {},
   "outputs": [
    {
     "data": {
      "text/plain": [
       "array([[ 955.32155583],\n",
       "       [1284.11549617]])"
      ]
     },
     "execution_count": 37,
     "metadata": {},
     "output_type": "execute_result"
    }
   ],
   "source": [
    "x_ = [[2.7, 7.1, 1],\n",
    "      [3.0, 6.2, 1]]\n",
    "np.matmul(x_, W)  #   2*3 * 3*1  2*1\n",
    "np.matmul(W, x_)  #   3*1  2*3"
   ]
  }
 ],
 "metadata": {
  "kernelspec": {
   "display_name": "Python 3 (ipykernel)",
   "language": "python",
   "name": "python3"
  },
  "language_info": {
   "codemirror_mode": {
    "name": "ipython",
    "version": 3
   },
   "file_extension": ".py",
   "mimetype": "text/x-python",
   "name": "python",
   "nbconvert_exporter": "python",
   "pygments_lexer": "ipython3",
   "version": "3.9.1"
  }
 },
 "nbformat": 4,
 "nbformat_minor": 2
}
