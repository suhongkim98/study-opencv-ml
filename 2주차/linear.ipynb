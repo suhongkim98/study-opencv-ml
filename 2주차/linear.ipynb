{
 "cells": [
  {
   "cell_type": "code",
   "execution_count": 2,
   "metadata": {},
   "outputs": [],
   "source": [
    "import numpy as np\n",
    "import matplotlib.pyplot as plt"
   ]
  },
  {
   "cell_type": "markdown",
   "metadata": {},
   "source": [
    "# 1.직선의 공식을 이용한 기울기와 y절편 계산"
   ]
  },
  {
   "cell_type": "code",
   "execution_count": 5,
   "metadata": {},
   "outputs": [
    {
     "name": "stdout",
     "output_type": "stream",
     "text": [
      "2.0\n",
      "1.0\n"
     ]
    }
   ],
   "source": [
    "p1 = (1,3 )\n",
    "p2 = (30,61)\n",
    "\n",
    "\n",
    "w = (p1[1] - p2[1])   /  (  p1[0] - p2[0]) \n",
    "b = p1[1] - w * p1[0]\n",
    "\n",
    "print(w)\n",
    "print(b)"
   ]
  },
  {
   "cell_type": "code",
   "execution_count": 12,
   "metadata": {},
   "outputs": [
    {
     "name": "stdout",
     "output_type": "stream",
     "text": [
      "[ 3.  5.  7.  9. 11. 13. 15. 17. 21.]\n"
     ]
    }
   ],
   "source": [
    "x = [1,2,3,4,5,6,7,8,10]\n",
    "x = np.array(x)\n",
    "y = w * x + b\n",
    "print(y)"
   ]
  },
  {
   "cell_type": "markdown",
   "metadata": {},
   "source": [
    "## basic"
   ]
  },
  {
   "cell_type": "code",
   "execution_count": 13,
   "metadata": {},
   "outputs": [
    {
     "name": "stdout",
     "output_type": "stream",
     "text": [
      "[1, 2, 3, 4, 1, 2, 3, 4, 1, 2, 3, 4]\n"
     ]
    }
   ],
   "source": [
    "print([1,2,3,4] * 3)"
   ]
  },
  {
   "cell_type": "code",
   "execution_count": 9,
   "metadata": {},
   "outputs": [
    {
     "name": "stdout",
     "output_type": "stream",
     "text": [
      "[ 1  4  9 16]\n"
     ]
    }
   ],
   "source": [
    "print(np.array([1,2,3,4]) * [1,2,3,4])"
   ]
  },
  {
   "cell_type": "code",
   "execution_count": 10,
   "metadata": {},
   "outputs": [
    {
     "name": "stdout",
     "output_type": "stream",
     "text": [
      "[ 3  6  9 12]\n"
     ]
    }
   ],
   "source": [
    "print(np.array([1,2,3,4]) * 3)"
   ]
  },
  {
   "cell_type": "markdown",
   "metadata": {},
   "source": [
    "# 2. 최소 제곱법을 이용한 직선의 방정식"
   ]
  },
  {
   "cell_type": "code",
   "execution_count": 14,
   "metadata": {},
   "outputs": [
    {
     "name": "stdout",
     "output_type": "stream",
     "text": [
      "2.031695721077655\n",
      "2.1806656101426256\n"
     ]
    }
   ],
   "source": [
    "x =  np.array([1,15,30])\n",
    "y = np.array([3,35,62])\n",
    "\n",
    "a1 = np.sum(  (x - np.mean(x)) *  ( y - np.mean(y)))\n",
    "a2 = np.sum(  (x - np.mean(x))**2) \n",
    "            \n",
    "w = a1 / a2\n",
    "b = np.mean(y) - np.mean(x)*w\n",
    "print(w)\n",
    "print(b)"
   ]
  },
  {
   "cell_type": "code",
   "execution_count": 95,
   "metadata": {},
   "outputs": [
    {
     "name": "stdout",
     "output_type": "stream",
     "text": [
      "15.333333333333334\n"
     ]
    }
   ],
   "source": [
    "print(np.mean(x))"
   ]
  },
  {
   "cell_type": "code",
   "execution_count": 15,
   "metadata": {},
   "outputs": [
    {
     "data": {
      "text/plain": [
       "array([-14.33333333,  -0.33333333,  14.66666667])"
      ]
     },
     "execution_count": 15,
     "metadata": {},
     "output_type": "execute_result"
    }
   ],
   "source": [
    "x - np.mean(x)"
   ]
  },
  {
   "cell_type": "code",
   "execution_count": 16,
   "metadata": {},
   "outputs": [
    {
     "data": {
      "text/plain": [
       "array([-30.33333333,   1.66666667,  28.66666667])"
      ]
     },
     "execution_count": 16,
     "metadata": {},
     "output_type": "execute_result"
    }
   ],
   "source": [
    "y - np.mean(y)"
   ]
  },
  {
   "cell_type": "code",
   "execution_count": 17,
   "metadata": {},
   "outputs": [
    {
     "data": {
      "text/plain": [
       "array([434.77777778,  -0.55555556, 420.44444444])"
      ]
     },
     "execution_count": 17,
     "metadata": {},
     "output_type": "execute_result"
    }
   ],
   "source": [
    "(x - np.mean(x))*(y - np.mean(y))"
   ]
  },
  {
   "cell_type": "code",
   "execution_count": 18,
   "metadata": {},
   "outputs": [
    {
     "data": {
      "text/plain": [
       "854.6666666666667"
      ]
     },
     "execution_count": 18,
     "metadata": {},
     "output_type": "execute_result"
    }
   ],
   "source": [
    "np.sum((x - np.mean(x))*(y - np.mean(y)))"
   ]
  },
  {
   "cell_type": "code",
   "execution_count": 19,
   "metadata": {},
   "outputs": [
    {
     "name": "stdout",
     "output_type": "stream",
     "text": [
      "[ 4.21236133 32.65610143 63.13153724]\n"
     ]
    }
   ],
   "source": [
    "y_ = w * x + b\n",
    "print(y_)"
   ]
  },
  {
   "cell_type": "markdown",
   "metadata": {},
   "source": [
    "# 3. 짜장면 가격에 따른 손님 수 예측"
   ]
  },
  {
   "cell_type": "code",
   "execution_count": 110,
   "metadata": {},
   "outputs": [
    {
     "name": "stdout",
     "output_type": "stream",
     "text": [
      "-0.021\n",
      "89.5\n"
     ]
    }
   ],
   "source": [
    "# 짜장면 가격, 손님수\n",
    "x =  np.array([1000,2000,3000,4000])\n",
    "y = np.array([71,45,24,8])\n",
    "\n",
    "a1 = np.sum(  (x - np.mean(x)) *  ( y - np.mean(y)))\n",
    "a2 = np.sum(  (x - np.mean(x))**2) \n",
    "            \n",
    "w = a1 / a2\n",
    "b = np.mean(y) - np.mean(x)*w\n",
    "print(w)\n",
    "print(b)"
   ]
  },
  {
   "cell_type": "markdown",
   "metadata": {},
   "source": [
    "# 4. 시간에 따른 물질의 무게 예측"
   ]
  },
  {
   "cell_type": "code",
   "execution_count": 111,
   "metadata": {},
   "outputs": [
    {
     "name": "stdout",
     "output_type": "stream",
     "text": [
      "-2.1\n",
      "89.5\n"
     ]
    }
   ],
   "source": [
    "x =  np.array([10,20,30,40])  # 시긴마다 물질의 무게\n",
    "y = np.array([71,45,24,8])\n",
    "\n",
    "a1 = np.sum(  (x - np.mean(x)) *  ( y - np.mean(y)))\n",
    "a2 = np.sum(  (x - np.mean(x))**2)\n",
    "            \n",
    "w = a1 / a2\n",
    "b = np.mean(y) - np.mean(x)*w\n",
    "print(w)\n",
    "print(b)"
   ]
  },
  {
   "cell_type": "markdown",
   "metadata": {},
   "source": [
    "# 5.시각화"
   ]
  },
  {
   "cell_type": "code",
   "execution_count": 114,
   "metadata": {},
   "outputs": [
    {
     "name": "stdout",
     "output_type": "stream",
     "text": [
      "[ 1.  2.  3.  4.  5.  6.  7.  8.  9. 10. 11. 12. 13. 14. 15. 16. 17. 18.\n",
      " 19. 20. 21. 22. 23. 24. 25. 26. 27. 28. 29. 30. 31. 32. 33. 34. 35. 36.\n",
      " 37. 38. 39. 40. 41. 42. 43. 44. 45. 46. 47. 48. 49. 50.]\n",
      "[ 87.4  85.3  83.2  81.1  79.   76.9  74.8  72.7  70.6  68.5  66.4  64.3\n",
      "  62.2  60.1  58.   55.9  53.8  51.7  49.6  47.5  45.4  43.3  41.2  39.1\n",
      "  37.   34.9  32.8  30.7  28.6  26.5  24.4  22.3  20.2  18.1  16.   13.9\n",
      "  11.8   9.7   7.6   5.5   3.4   1.3  -0.8  -2.9  -5.   -7.1  -9.2 -11.3\n",
      " -13.4 -15.5]\n"
     ]
    }
   ],
   "source": [
    "x2 =  np.linspace(1, 50, 50)  #1~50까지를 100개 구간으로\n",
    "y2 = w * x2 + b\n",
    "print(x2)\n",
    "print(y2)"
   ]
  },
  {
   "cell_type": "code",
   "execution_count": 115,
   "metadata": {},
   "outputs": [
    {
     "data": {
      "text/plain": [
       "[<matplotlib.lines.Line2D at 0x27364181518>]"
      ]
     },
     "execution_count": 115,
     "metadata": {},
     "output_type": "execute_result"
    },
    {
     "data": {
      "image/png": "[encoded data removed]",
      "text/plain": [
       "<Figure size 432x288 with 1 Axes>"
      ]
     },
     "metadata": {
      "needs_background": "light"
     },
     "output_type": "display_data"
    }
   ],
   "source": [
    "plt.plot(x, y, 'b^')\n",
    "plt.plot(x2, y2, 'r')"
   ]
  }
 ],
 "metadata": {
  "kernelspec": {
   "display_name": "Python 3 (ipykernel)",
   "language": "python",
   "name": "python3"
  },
  "language_info": {
   "codemirror_mode": {
    "name": "ipython",
    "version": 3
   },
   "file_extension": ".py",
   "mimetype": "text/x-python",
   "name": "python",
   "nbconvert_exporter": "python",
   "pygments_lexer": "ipython3",
   "version": "3.9.1"
  }
 },
 "nbformat": 4,
 "nbformat_minor": 2
}
