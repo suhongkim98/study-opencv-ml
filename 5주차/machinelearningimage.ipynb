{
 "cells": [
  {
   "cell_type": "code",
   "execution_count": 52,
   "metadata": {},
   "outputs": [],
   "source": [
    "import numpy as np\n",
    "import numpy.linalg as lin\n",
    "from sklearn import datasets\n",
    "import matplotlib.pyplot as plt\n",
    "from sklearn.datasets import load_digits\n",
    "from sklearn.linear_model import LogisticRegression\n",
    "from sklearn.datasets import fetch_olivetti_faces\n",
    "from sklearn.datasets import fetch_lfw_people\n",
    "from sklearn.model_selection import train_test_split\n",
    "from sklearn.metrics import confusion_matrix\n",
    "import seaborn as sns\n",
    "import cv2\n",
    "import joblib\n",
    "\n",
    "np.set_printoptions(suppress=True)"
   ]
  },
  {
   "cell_type": "markdown",
   "metadata": {},
   "source": [
    "# 1. 숫자인식"
   ]
  },
  {
   "cell_type": "markdown",
   "metadata": {},
   "source": [
    "## 1.1 데이터 로딩"
   ]
  },
  {
   "cell_type": "code",
   "execution_count": 53,
   "metadata": {},
   "outputs": [],
   "source": [
    "digits = load_digits()\n",
    "data = digits.data\n",
    "y = digits.target"
   ]
  },
  {
   "cell_type": "code",
   "execution_count": 54,
   "metadata": {},
   "outputs": [
    {
     "name": "stdout",
     "output_type": "stream",
     "text": [
      "(1797, 64)\n",
      "(1797,)\n"
     ]
    }
   ],
   "source": [
    "print(data.shape)\n",
    "print(y.shape)"
   ]
  },
  {
   "cell_type": "markdown",
   "metadata": {},
   "source": [
    "#### 100번 째 데이터는 이렇게 생겼고(data[100]) 그거에 대한 답은 4이다.(y[100])"
   ]
  },
  {
   "cell_type": "code",
   "execution_count": 55,
   "metadata": {},
   "outputs": [
    {
     "data": {
      "text/plain": [
       "array([ 0.,  0.,  0.,  2., 13.,  0.,  0.,  0.,  0.,  0.,  0.,  8., 15.,\n",
       "        0.,  0.,  0.,  0.,  0.,  5., 16.,  5.,  2.,  0.,  0.,  0.,  0.,\n",
       "       15., 12.,  1., 16.,  4.,  0.,  0.,  4., 16.,  2.,  9., 16.,  8.,\n",
       "        0.,  0.,  0., 10., 14., 16., 16.,  4.,  0.,  0.,  0.,  0.,  0.,\n",
       "       13.,  8.,  0.,  0.,  0.,  0.,  0.,  0., 13.,  6.,  0.,  0.])"
      ]
     },
     "execution_count": 55,
     "metadata": {},
     "output_type": "execute_result"
    }
   ],
   "source": [
    "data[100]"
   ]
  },
  {
   "cell_type": "code",
   "execution_count": 56,
   "metadata": {},
   "outputs": [
    {
     "data": {
      "text/plain": [
       "4"
      ]
     },
     "execution_count": 56,
     "metadata": {},
     "output_type": "execute_result"
    }
   ],
   "source": [
    "y[100]"
   ]
  },
  {
   "cell_type": "markdown",
   "metadata": {},
   "source": [
    "#### 현재 data는 1차원이다. 그리고 64개 이므로 이를 reshape함수를 사용해 8, 8로 2차원으로 변경"
   ]
  },
  {
   "cell_type": "code",
   "execution_count": 57,
   "metadata": {},
   "outputs": [
    {
     "name": "stdout",
     "output_type": "stream",
     "text": [
      "8\n",
      "[[ 0.  0.  3. 10. 14.  3.  0.  0.]\n",
      " [ 0.  8. 16. 11. 10. 13.  0.  0.]\n",
      " [ 0.  7. 14.  0.  1. 15.  2.  0.]\n",
      " [ 0.  2. 16.  9. 16. 16.  1.  0.]\n",
      " [ 0.  0. 12. 16. 15. 15.  2.  0.]\n",
      " [ 0.  0. 12. 10.  0.  8.  8.  0.]\n",
      " [ 0.  0.  9. 12.  4.  7. 12.  0.]\n",
      " [ 0.  0.  2. 11. 16. 16.  9.  0.]]\n"
     ]
    },
    {
     "data": {
      "text/plain": [
       "<matplotlib.image.AxesImage at 0x15aeeed00>"
      ]
     },
     "execution_count": 57,
     "metadata": {},
     "output_type": "execute_result"
    },
    {
     "data": {
      "image/png": "[encoded data removed]",
      "text/plain": [
       "<Figure size 432x288 with 1 Axes>"
      ]
     },
     "metadata": {
      "needs_background": "light"
     },
     "output_type": "display_data"
    }
   ],
   "source": [
    "img = data[500, :].reshape(8,8)\n",
    "print(y[500])\n",
    "print(img)\n",
    "plt.imshow(img, cmap='gray')"
   ]
  },
  {
   "cell_type": "code",
   "execution_count": 58,
   "metadata": {},
   "outputs": [
    {
     "data": {
      "text/plain": [
       "array([49, 74, 12, 37, 92])"
      ]
     },
     "execution_count": 58,
     "metadata": {},
     "output_type": "execute_result"
    }
   ],
   "source": [
    "np.random.choice(100, 5)"
   ]
  },
  {
   "cell_type": "code",
   "execution_count": 59,
   "metadata": {},
   "outputs": [
    {
     "name": "stdout",
     "output_type": "stream",
     "text": [
      "[1570 1029 1590  900  918  487 1201  489 1130  469]\n",
      "0 1570\n",
      "1 1029\n",
      "2 1590\n",
      "3 900\n",
      "4 918\n",
      "5 487\n",
      "6 1201\n",
      "7 489\n",
      "8 1130\n",
      "9 469\n"
     ]
    },
    {
     "data": {
      "image/png": "[encoded data removed]",
      "text/plain": [
       "<Figure size 576x360 with 10 Axes>"
      ]
     },
     "metadata": {},
     "output_type": "display_data"
    }
   ],
   "source": [
    "N = 2\n",
    "M = 5\n",
    "\n",
    "fig = plt.figure(figsize=(8, 5))\n",
    "\n",
    "klist = np.random.choice(range( data.shape[0] ), N * M)\n",
    "print(klist)\n",
    "for i in range(N):\n",
    "    for j in range(M):\n",
    "        k = klist[i*M+j]\n",
    "        print(i*M+j, k)\n",
    "        ax = fig.add_subplot(N, M, i*M+j+1)\n",
    "        ax.imshow(data[k, :].reshape(8,8), cmap='gray')\n",
    "        ax.grid(False)\n",
    "        ax.xaxis.set_ticks([])\n",
    "        ax.yaxis.set_ticks([])\n",
    "        plt.title(y[k])\n",
    "plt.tight_layout()\n",
    "plt.show()"
   ]
  },
  {
   "cell_type": "markdown",
   "metadata": {},
   "source": [
    "## 1.2 데이터 셋 분할"
   ]
  },
  {
   "cell_type": "markdown",
   "metadata": {},
   "source": [
    "#### 학습한 데이터를 가지고 인식률을 예측하는 것은 아무런 의미가 없다. 데이터 셋을 학습 데이터와 테스트 데이터로 나누고 학습 데이터는 학습용으로 사용하고 테스트 데이터를 가지고 인식률을 계산하겠다\n",
    "\n",
    "test_size를 지정하여 전체 데이터 중 30%는 테스트 데이터로, 나머지는 학습 데이터로 분리하겠다."
   ]
  },
  {
   "cell_type": "code",
   "execution_count": 60,
   "metadata": {},
   "outputs": [],
   "source": [
    "a = train_test_split([[1],[2], [3], [4], [5], [6], [7], [8], [9]], [0,0,0,1,1,1,2,2,2], test_size=0.3)"
   ]
  },
  {
   "cell_type": "code",
   "execution_count": 61,
   "metadata": {},
   "outputs": [
    {
     "name": "stdout",
     "output_type": "stream",
     "text": [
      "[[9], [4], [3], [7], [2], [5]]\n",
      "[[8], [1], [6]]\n",
      "[2, 1, 0, 2, 0, 1]\n",
      "[2, 0, 1]\n"
     ]
    }
   ],
   "source": [
    "print(a[0]) #  train data\n",
    "print(a[1]) # test data \n",
    "print(a[2])  # train label\n",
    "print(a[3])  # test label"
   ]
  },
  {
   "cell_type": "code",
   "execution_count": 62,
   "metadata": {},
   "outputs": [
    {
     "name": "stdout",
     "output_type": "stream",
     "text": [
      "[[6], [5], [2], [7], [4], [1]]\n",
      "[[8], [3], [9]]\n",
      "[1, 1, 0, 2, 1, 0]\n",
      "[2, 0, 2]\n"
     ]
    }
   ],
   "source": [
    "a, b, c, d =  train_test_split([[1],[2], [3], [4], [5], [6], [7], [8], [9]], [0,0,0,1,1,1,2,2,2], test_size=0.3, random_state=21242)\n",
    "\n",
    "print(a)\n",
    "print(b)\n",
    "print(c)\n",
    "print(d)"
   ]
  },
  {
   "cell_type": "code",
   "execution_count": 63,
   "metadata": {},
   "outputs": [
    {
     "name": "stdout",
     "output_type": "stream",
     "text": [
      "(1617, 64)\n",
      "(180, 64)\n",
      "(1617,)\n",
      "(180,)\n"
     ]
    }
   ],
   "source": [
    "X_train, X_test, y_train, y_test = train_test_split(data, y, test_size=0.1, random_state=42)\n",
    "\n",
    "print(X_train.shape)\n",
    "print(X_test.shape)\n",
    "print(y_train.shape)\n",
    "print(y_test.shape)"
   ]
  },
  {
   "cell_type": "markdown",
   "metadata": {},
   "source": [
    "## 1.3 역행렬을 이용한 학습"
   ]
  },
  {
   "cell_type": "code",
   "execution_count": 64,
   "metadata": {},
   "outputs": [
    {
     "name": "stdout",
     "output_type": "stream",
     "text": [
      "(1617,)\n",
      "(1617, 10)\n",
      "3\n",
      "[0. 0. 0. 1. 0. 0. 0. 0. 0. 0.]\n",
      "[[0. 0. 0. ... 0. 0. 0.]\n",
      " [0. 0. 0. ... 0. 0. 1.]\n",
      " [0. 0. 0. ... 0. 1. 0.]\n",
      " ...\n",
      " [0. 0. 1. ... 0. 0. 0.]\n",
      " [0. 0. 0. ... 1. 0. 0.]\n",
      " [0. 1. 0. ... 0. 0. 0.]]\n"
     ]
    }
   ],
   "source": [
    "y_h = np.eye(10)[y_train]\n",
    "print(y_train.shape)\n",
    "print(y_h.shape)\n",
    "\n",
    "print(y_train[0])\n",
    "print(y_h[0])\n",
    "print(y_h)"
   ]
  },
  {
   "cell_type": "code",
   "execution_count": 65,
   "metadata": {},
   "outputs": [
    {
     "name": "stdout",
     "output_type": "stream",
     "text": [
      "[[ 0.  0. 13. ...  0.  0.  1.]\n",
      " [ 0.  0.  1. ...  0.  0.  1.]\n",
      " [ 0.  0.  3. ...  4.  0.  1.]\n",
      " ...\n",
      " [ 0.  0.  9. ...  2.  0.  1.]\n",
      " [ 0.  0.  1. ...  0.  0.  1.]\n",
      " [ 0.  0.  1. ...  0.  0.  1.]]\n"
     ]
    }
   ],
   "source": [
    "A = np.hstack([ X_train, np.ones(( X_train.shape[0]  ,1))  ]) \n",
    "print(A)"
   ]
  },
  {
   "cell_type": "code",
   "execution_count": 66,
   "metadata": {},
   "outputs": [
    {
     "name": "stdout",
     "output_type": "stream",
     "text": [
      "(65, 10)\n",
      "[-0.          0.00369105  0.00127536  0.0098985  -0.01566439  0.01065847\n",
      "  0.00194485 -0.00240117 -0.12646066 -0.00797114 -0.0168724  -0.00856113\n",
      "  0.00340177  0.01096715 -0.01275584 -0.0002252   0.27305158  0.00239698\n",
      " -0.00041086  0.01088917  0.01315998 -0.00606901  0.00685968 -0.01840326\n",
      " -0.14924073  0.01289405  0.00138102  0.00449745 -0.00219583  0.0025318\n",
      " -0.00594674  0.10186046  0.         -0.00262774  0.0004377   0.00024155\n",
      "  0.00361664 -0.0036802  -0.00130939  0.          0.00452806 -0.00905621\n",
      " -0.00215869 -0.0001007   0.00002828 -0.00653521  0.00239138 -0.06846493\n",
      " -0.00543635 -0.00649562  0.00183432  0.00320012  0.00772547 -0.00243559\n",
      " -0.00902088  0.03109219 -0.24605073 -0.0012193  -0.01180487  0.00155568\n",
      "  0.00319343  0.01002128 -0.00984156  0.01857325  0.05623295]\n"
     ]
    }
   ],
   "source": [
    "inv = lin.pinv(A)\n",
    "W = np.matmul(inv, y_h) \n",
    "print(W.shape)\n",
    "\n",
    "print(W[:, 1])"
   ]
  },
  {
   "cell_type": "code",
   "execution_count": 67,
   "metadata": {},
   "outputs": [
    {
     "name": "stdout",
     "output_type": "stream",
     "text": [
      "(1617, 10)\n"
     ]
    }
   ],
   "source": [
    "o = np.matmul(A,W)  # 1617 x 10\n",
    "print(o.shape)"
   ]
  },
  {
   "cell_type": "code",
   "execution_count": 68,
   "metadata": {},
   "outputs": [
    {
     "data": {
      "text/plain": [
       "array([ 0.00632062,  0.08152374, -0.09636756,  0.06374796,  0.14330391,\n",
       "        0.00292964,  0.78877869, -0.00140077, -0.02255656,  0.03372033])"
      ]
     },
     "execution_count": 68,
     "metadata": {},
     "output_type": "execute_result"
    }
   ],
   "source": [
    "o[100]"
   ]
  },
  {
   "cell_type": "code",
   "execution_count": 69,
   "metadata": {},
   "outputs": [
    {
     "name": "stdout",
     "output_type": "stream",
     "text": [
      "6\n"
     ]
    }
   ],
   "source": [
    "print(y_train[100])"
   ]
  },
  {
   "cell_type": "code",
   "execution_count": 70,
   "metadata": {},
   "outputs": [
    {
     "name": "stdout",
     "output_type": "stream",
     "text": [
      "[3 9 8 ... 2 7 1]\n",
      "(1617,)\n"
     ]
    }
   ],
   "source": [
    "p = np.argmax(o, axis=1)\n",
    "print(p)\n",
    "print(p.shape)"
   ]
  },
  {
   "cell_type": "code",
   "execution_count": 71,
   "metadata": {},
   "outputs": [
    {
     "data": {
      "text/plain": [
       "array([ True,  True,  True, ...,  True,  True,  True])"
      ]
     },
     "execution_count": 71,
     "metadata": {},
     "output_type": "execute_result"
    }
   ],
   "source": [
    "p == y_train"
   ]
  },
  {
   "cell_type": "code",
   "execution_count": 72,
   "metadata": {},
   "outputs": [
    {
     "data": {
      "text/plain": [
       "0.9486703772418058"
      ]
     },
     "execution_count": 72,
     "metadata": {},
     "output_type": "execute_result"
    }
   ],
   "source": [
    "np.mean(p == y_train) # T T T F F  -> 1 1 1 0 0 "
   ]
  },
  {
   "cell_type": "code",
   "execution_count": 73,
   "metadata": {},
   "outputs": [
    {
     "name": "stdout",
     "output_type": "stream",
     "text": [
      "(180, 10)\n"
     ]
    },
    {
     "data": {
      "text/plain": [
       "0.95"
      ]
     },
     "execution_count": 73,
     "metadata": {},
     "output_type": "execute_result"
    }
   ],
   "source": [
    "A = np.hstack([ X_test, np.ones(( X_test.shape[0]  ,1))  ]) \n",
    "o = np.matmul(A, W)\n",
    "print(o.shape)\n",
    "p = np.argmax(o, axis=1)\n",
    "np.mean(p == y_test)"
   ]
  },
  {
   "cell_type": "markdown",
   "metadata": {},
   "source": [
    "## 1.4 SoftMax를 이용한 학습"
   ]
  },
  {
   "cell_type": "code",
   "execution_count": 74,
   "metadata": {},
   "outputs": [
    {
     "data": {
      "text/plain": [
       "LogisticRegression(max_iter=3000)"
      ]
     },
     "execution_count": 74,
     "metadata": {},
     "output_type": "execute_result"
    }
   ],
   "source": [
    "#ConvergenceWarning: lbfgs failed to converge가 떠서 max_iter을 3000으로 주어 해결\n",
    "log_reg = LogisticRegression(solver=\"lbfgs\", max_iter=3000)\n",
    "log_reg.fit(X_train,  y_train)"
   ]
  },
  {
   "cell_type": "code",
   "execution_count": 75,
   "metadata": {},
   "outputs": [
    {
     "name": "stdout",
     "output_type": "stream",
     "text": [
      "[3 9 8 ... 2 7 1]\n",
      "(1617,)\n"
     ]
    }
   ],
   "source": [
    "p = log_reg.predict(X_train)\n",
    "print(p)\n",
    "print(p.shape)"
   ]
  },
  {
   "cell_type": "code",
   "execution_count": 76,
   "metadata": {},
   "outputs": [
    {
     "name": "stdout",
     "output_type": "stream",
     "text": [
      "1.0\n"
     ]
    }
   ],
   "source": [
    "accuracy = np.mean(p == y_train)\n",
    "print(accuracy)"
   ]
  },
  {
   "cell_type": "code",
   "execution_count": 77,
   "metadata": {},
   "outputs": [
    {
     "name": "stdout",
     "output_type": "stream",
     "text": [
      "0.9777777777777777\n"
     ]
    }
   ],
   "source": [
    "p = log_reg.predict(X_test)\n",
    "accuracy = np.mean(p == y_test)\n",
    "print(accuracy)"
   ]
  },
  {
   "cell_type": "markdown",
   "metadata": {},
   "source": [
    "#### 점수를 구하는 함수가 만들어져있다. 위에 것과 동일한 결과가 나옴"
   ]
  },
  {
   "cell_type": "code",
   "execution_count": 78,
   "metadata": {},
   "outputs": [
    {
     "name": "stdout",
     "output_type": "stream",
     "text": [
      "0.9777777777777777\n"
     ]
    }
   ],
   "source": [
    "accuracy = log_reg.score(X_test, y_test)\n",
    "print(accuracy)"
   ]
  },
  {
   "cell_type": "markdown",
   "metadata": {},
   "source": [
    "## 1.5 데이터셋 정규화"
   ]
  },
  {
   "cell_type": "code",
   "execution_count": 79,
   "metadata": {},
   "outputs": [
    {
     "data": {
      "text/plain": [
       "16.0"
      ]
     },
     "execution_count": 79,
     "metadata": {},
     "output_type": "execute_result"
    }
   ],
   "source": [
    "np.max(data)"
   ]
  },
  {
   "cell_type": "markdown",
   "metadata": {},
   "source": [
    "#### 전체 데이터 중 가장 큰 값이 16인걸 알 수 있다. 0-16.0으로 정규화 데이터들이 정규화 되어있는데 스케일이 맞지 않다. 전체 데이터를 0-1.0로 정규화해주자."
   ]
  },
  {
   "cell_type": "code",
   "execution_count": 80,
   "metadata": {},
   "outputs": [],
   "source": [
    "data = data / np.max(data)"
   ]
  },
  {
   "cell_type": "code",
   "execution_count": 81,
   "metadata": {},
   "outputs": [
    {
     "data": {
      "text/plain": [
       "1.0"
      ]
     },
     "execution_count": 81,
     "metadata": {},
     "output_type": "execute_result"
    }
   ],
   "source": [
    "np.max(data)"
   ]
  },
  {
   "cell_type": "code",
   "execution_count": 82,
   "metadata": {},
   "outputs": [
    {
     "data": {
      "text/plain": [
       "array([0.    , 0.    , 0.3125, 0.8125, 0.5625, 0.0625, 0.    , 0.    ,\n",
       "       0.    , 0.    , 0.8125, 0.9375, 0.625 , 0.9375, 0.3125, 0.    ,\n",
       "       0.    , 0.1875, 0.9375, 0.125 , 0.    , 0.6875, 0.5   , 0.    ,\n",
       "       0.    , 0.25  , 0.75  , 0.    , 0.    , 0.5   , 0.5   , 0.    ,\n",
       "       0.    , 0.3125, 0.5   , 0.    , 0.    , 0.5625, 0.5   , 0.    ,\n",
       "       0.    , 0.25  , 0.6875, 0.    , 0.0625, 0.75  , 0.4375, 0.    ,\n",
       "       0.    , 0.125 , 0.875 , 0.3125, 0.625 , 0.75  , 0.    , 0.    ,\n",
       "       0.    , 0.    , 0.375 , 0.8125, 0.625 , 0.    , 0.    , 0.    ])"
      ]
     },
     "execution_count": 82,
     "metadata": {},
     "output_type": "execute_result"
    }
   ],
   "source": [
    "data[0]"
   ]
  },
  {
   "cell_type": "markdown",
   "metadata": {},
   "source": [
    "#### 정규화 시켜서 다시 학습해보자 성능이 약간 올라간거 확인 가능"
   ]
  },
  {
   "cell_type": "code",
   "execution_count": 83,
   "metadata": {},
   "outputs": [],
   "source": [
    "X_train, X_test, y_train, y_test = train_test_split(data, y, test_size=0.1, random_state=42)"
   ]
  },
  {
   "cell_type": "code",
   "execution_count": 84,
   "metadata": {},
   "outputs": [
    {
     "data": {
      "text/plain": [
       "LogisticRegression(max_iter=3000)"
      ]
     },
     "execution_count": 84,
     "metadata": {},
     "output_type": "execute_result"
    }
   ],
   "source": [
    "log_reg.fit(X_train,  y_train)"
   ]
  },
  {
   "cell_type": "code",
   "execution_count": 85,
   "metadata": {},
   "outputs": [
    {
     "name": "stdout",
     "output_type": "stream",
     "text": [
      "0.9833333333333333\n"
     ]
    }
   ],
   "source": [
    "accuracy = log_reg.score(X_test, y_test)\n",
    "print(accuracy)"
   ]
  },
  {
   "cell_type": "markdown",
   "metadata": {},
   "source": [
    "# 2. OpenCV를 이용한 숫자 인식"
   ]
  },
  {
   "cell_type": "markdown",
   "metadata": {},
   "source": [
    "#### 모델 객체를 파일로 변환하고 이를 불러와 사용"
   ]
  },
  {
   "cell_type": "code",
   "execution_count": 36,
   "metadata": {},
   "outputs": [
    {
     "data": {
      "text/plain": [
       "['digit.pkl']"
      ]
     },
     "execution_count": 36,
     "metadata": {},
     "output_type": "execute_result"
    }
   ],
   "source": [
    "joblib.dump(log_reg, 'digit.pkl') "
   ]
  },
  {
   "cell_type": "markdown",
   "metadata": {},
   "source": [
    "#### 그림을 그려보고 숫자가 무엇인지 인식해보자 숫자를 그리고 space로 종료"
   ]
  },
  {
   "cell_type": "code",
   "execution_count": 86,
   "metadata": {},
   "outputs": [],
   "source": [
    "ix,iy = -1,-1\n",
    "drawing = False\n",
    "\n",
    "def draw(event,x,y,flags,param):\n",
    "    global ix,iy,drawing\n",
    "\n",
    "    if event == cv2.EVENT_LBUTTONDOWN:\n",
    "        drawing = True\n",
    "        ix,iy = x,y\n",
    "        \n",
    "    elif event==cv2.EVENT_MOUSEMOVE: # 그리기 시작\n",
    "        if drawing == True:\n",
    "            cv2.line(img,(ix,iy),(x,y),(255,255,255),30) # 선 굵기는 30\n",
    "            ix = x\n",
    "            iy = y     \n",
    "        \n",
    "    elif event==cv2.EVENT_LBUTTONUP: # 그리기 종료\n",
    "        drawing=False    \n",
    "\n",
    "        \n",
    "img = np.zeros((256,256), np.uint8) # 창의 크기\n",
    "cv2.imshow('image',img)\n",
    "cv2.setMouseCallback('image',draw)          # 마우스 이벤트가 발생하면 만든 draw 함수를 호출해라\n",
    "\n",
    "while(1):\n",
    "    cv2.imshow('image',img)\n",
    "    k = cv2.waitKey(1)\n",
    "    if k == 32: # space를 누를 때까지 대기, 숫자를 그리고 space키를 눌러 종료하자\n",
    "        break\n",
    "\n",
    "cv2.destroyAllWindows()  "
   ]
  },
  {
   "cell_type": "markdown",
   "metadata": {},
   "source": [
    "#### 위에서 그린 그림을 show로 표현"
   ]
  },
  {
   "cell_type": "code",
   "execution_count": 90,
   "metadata": {},
   "outputs": [
    {
     "data": {
      "text/plain": [
       "<matplotlib.image.AxesImage at 0x15a76fac0>"
      ]
     },
     "execution_count": 90,
     "metadata": {},
     "output_type": "execute_result"
    },
    {
     "data": {
      "image/png": "[encoded data removed]",
      "text/plain": [
       "<Figure size 432x288 with 1 Axes>"
      ]
     },
     "metadata": {
      "needs_background": "light"
     },
     "output_type": "display_data"
    }
   ],
   "source": [
    "plt.imshow(img, cmap='gray')"
   ]
  },
  {
   "cell_type": "code",
   "execution_count": 87,
   "metadata": {},
   "outputs": [
    {
     "name": "stdout",
     "output_type": "stream",
     "text": [
      "[[0. 0. 0. 1. 0. 0. 0. 0. 0. 0. 0. 1. 0. 0. 0. 0. 0. 0. 0. 1. 0. 0. 0. 0.\n",
      "  0. 0. 0. 1. 0. 0. 0. 0. 0. 0. 0. 1. 0. 0. 0. 0. 0. 0. 0. 1. 0. 0. 0. 0.\n",
      "  0. 0. 0. 1. 0. 0. 0. 0. 0. 0. 0. 0. 0. 0. 0. 0.]]\n"
     ]
    },
    {
     "data": {
      "image/png": "[encoded data removed]",
      "text/plain": [
       "<Figure size 432x288 with 1 Axes>"
      ]
     },
     "metadata": {
      "needs_background": "light"
     },
     "output_type": "display_data"
    }
   ],
   "source": [
    "img2 = cv2.resize(img, (8, 8), interpolation = cv2.INTER_LINEAR) # 256, 256을 8,8로 리사이즈\n",
    "plt.imshow(img2, cmap='gray') # 8,8로 줄여서 보니 좀 깨지네\n",
    "\n",
    "x = img2.reshape(1, 8 * 8) / 255 # 0-1.0으로 정규화\n",
    "print(x)\n"
   ]
  },
  {
   "cell_type": "markdown",
   "metadata": {},
   "source": [
    "#### 파일로 저장한 모델 로딩"
   ]
  },
  {
   "cell_type": "code",
   "execution_count": 88,
   "metadata": {},
   "outputs": [],
   "source": [
    "log_reg_2 = joblib.load('digit.pkl') "
   ]
  },
  {
   "cell_type": "code",
   "execution_count": 89,
   "metadata": {},
   "outputs": [
    {
     "data": {
      "text/plain": [
       "array([1])"
      ]
     },
     "execution_count": 89,
     "metadata": {},
     "output_type": "execute_result"
    }
   ],
   "source": [
    "log_reg_2.predict(x) "
   ]
  },
  {
   "cell_type": "markdown",
   "metadata": {},
   "source": [
    "# 3. Summary\n",
    "\n",
    "- 필기체 숫자 데이터 셋  : load_digits()  \n",
    "- 이미지 변환 :  reshape(8,8) \n",
    "- 학습 및 테스트 셋 분할 : X_train, X_test, y_train, y_test = train_test_split(data, y, test_size=0.1, random_state=42)\n",
    "- 역행렬을 이용한 학습, inv = lin.pinv(A) , W = np.matmul(inv, y_h), \n",
    "- 테스트 셋에 대한 인식률 : o = np.matmul(A, W), p = np.argmax(o, axis=1), np.mean(p == y_test)\n",
    "- SoftMax를 이용한 학습 : log_reg = LogisticRegression(), log_reg.fit(X_train,  y_train)\n",
    "- 테스트 셋에 대한 예측 및 인식률 : p = log_reg.predict(X_train), accuracy = log_reg.score(X_test, y_test)\n",
    "- 데이터셋 정규화 : data = data / np.max(data)\n",
    "- 학습결과 저장 :  joblib.dump(log_reg, 'digit.pkl'), log_reg_2 = joblib.load('digit.pkl') \n",
    "- OpenCV 연동"
   ]
  },
  {
   "cell_type": "code",
   "execution_count": null,
   "metadata": {},
   "outputs": [],
   "source": []
  }
 ],
 "metadata": {
  "kernelspec": {
   "display_name": "Python 3 (ipykernel)",
   "language": "python",
   "name": "python3"
  },
  "language_info": {
   "codemirror_mode": {
    "name": "ipython",
    "version": 3
   },
   "file_extension": ".py",
   "mimetype": "text/x-python",
   "name": "python",
   "nbconvert_exporter": "python",
   "pygments_lexer": "ipython3",
   "version": "3.9.1"
  }
 },
 "nbformat": 4,
 "nbformat_minor": 2
}
