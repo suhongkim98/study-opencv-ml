{
 "cells": [
  {
   "cell_type": "code",
   "execution_count": 122,
   "metadata": {},
   "outputs": [],
   "source": [
    "import numpy as np\n",
    "import numpy.linalg as lin\n",
    "from sklearn import datasets\n",
    "import matplotlib.pyplot as plt\n",
    "from sklearn.linear_model import LogisticRegression\n",
    "np.set_printoptions(suppress=True)"
   ]
  },
  {
   "cell_type": "markdown",
   "metadata": {},
   "source": [
    "# 1. sigmoid"
   ]
  },
  {
   "cell_type": "code",
   "execution_count": 72,
   "metadata": {},
   "outputs": [
    {
     "data": {
      "text/plain": [
       "[<matplotlib.lines.Line2D at 0x29bb7d4d240>]"
      ]
     },
     "execution_count": 72,
     "metadata": {},
     "output_type": "execute_result"
    },
    {
     "data": {
      "image/png": "[encoded data removed]",
      "text/plain": [
       "<Figure size 432x288 with 1 Axes>"
      ]
     },
     "metadata": {
      "needs_background": "light"
     },
     "output_type": "display_data"
    }
   ],
   "source": [
    "def sigmoid(x):\n",
    "    return 1 / (1 +np.exp(-x))\n",
    "\n",
    "\n",
    "\n",
    "x = np.linspace(-10, 10, 100)\n",
    "y = sigmoid(x)\n",
    "\n",
    "plt.plot(y)"
   ]
  },
  {
   "cell_type": "markdown",
   "metadata": {},
   "source": [
    "# 2. regression을 이용한 binary classification"
   ]
  },
  {
   "cell_type": "code",
   "execution_count": 74,
   "metadata": {},
   "outputs": [
    {
     "name": "stdout",
     "output_type": "stream",
     "text": [
      "[[ 0.00058535]\n",
      " [-0.04340204]]\n"
     ]
    }
   ],
   "source": [
    "A = np.array([[120,1],\n",
    "              [170,1],\n",
    "              [180,1],\n",
    "              [1200,1],\n",
    "               [1900,1],\n",
    "               [2000,1],\n",
    "             ])\n",
    "\n",
    "y = np.array([[0], [0], [0], [1], [1], [1]])\n",
    "inv = lin.pinv(A)\n",
    "W = np.matmul(inv, y) \n",
    "print(W)"
   ]
  },
  {
   "cell_type": "code",
   "execution_count": 75,
   "metadata": {},
   "outputs": [
    {
     "name": "stdout",
     "output_type": "stream",
     "text": [
      "[[0.02684024]\n",
      " [0.05610785]\n",
      " [0.06196137]\n",
      " [0.6590207 ]\n",
      " [1.0687673 ]\n",
      " [1.12730253]]\n"
     ]
    }
   ],
   "source": [
    "y = np.matmul(A,W)\n",
    "print(y)"
   ]
  },
  {
   "cell_type": "code",
   "execution_count": 77,
   "metadata": {},
   "outputs": [
    {
     "data": {
      "text/plain": [
       "array([[False],\n",
       "       [False],\n",
       "       [False],\n",
       "       [ True],\n",
       "       [ True],\n",
       "       [ True]])"
      ]
     },
     "execution_count": 77,
     "metadata": {},
     "output_type": "execute_result"
    }
   ],
   "source": [
    "y > 0.5"
   ]
  },
  {
   "cell_type": "code",
   "execution_count": 78,
   "metadata": {},
   "outputs": [
    {
     "data": {
      "text/plain": [
       "array([[0],\n",
       "       [0],\n",
       "       [0],\n",
       "       [1],\n",
       "       [1],\n",
       "       [1]])"
      ]
     },
     "execution_count": 78,
     "metadata": {},
     "output_type": "execute_result"
    }
   ],
   "source": [
    "(y > 0.5)*1"
   ]
  },
  {
   "cell_type": "markdown",
   "metadata": {},
   "source": [
    "# 3. sklearn을 이용한 binary classification(logstic regression)"
   ]
  },
  {
   "cell_type": "code",
   "execution_count": 140,
   "metadata": {},
   "outputs": [],
   "source": [
    "X = np.array([[120], [170], [180],   [1200], [1900], [2000]])\n",
    "y = np.array([0,0,0,1,1,1])"
   ]
  },
  {
   "cell_type": "code",
   "execution_count": null,
   "metadata": {},
   "outputs": [],
   "source": [
    "log_reg = LogisticRegression()\n",
    "log_reg.fit(X,y)"
   ]
  },
  {
   "cell_type": "code",
   "execution_count": 142,
   "metadata": {},
   "outputs": [
    {
     "data": {
      "text/plain": [
       "array([0, 0, 0, 1, 1, 1])"
      ]
     },
     "execution_count": 142,
     "metadata": {},
     "output_type": "execute_result"
    }
   ],
   "source": [
    "log_reg.predict(X)"
   ]
  },
  {
   "cell_type": "code",
   "execution_count": 143,
   "metadata": {},
   "outputs": [
    {
     "name": "stdout",
     "output_type": "stream",
     "text": [
      "[[0.00265595]]\n",
      "[-0.96119537]\n"
     ]
    }
   ],
   "source": [
    "print(log_reg.coef_)\n",
    "print(log_reg.intercept_)"
   ]
  },
  {
   "cell_type": "code",
   "execution_count": 144,
   "metadata": {},
   "outputs": [
    {
     "name": "stdout",
     "output_type": "stream",
     "text": [
      "[[0.65531413 0.34468587]\n",
      " [0.62473232 0.37526768]\n",
      " [0.61848533 0.38151467]\n",
      " [0.09744461 0.90255539]\n",
      " [0.01654299 0.98345701]\n",
      " [0.01273346 0.98726654]]\n",
      "[0.34468587 0.37526768 0.38151467 0.90255539 0.98345701 0.98726654]\n",
      "[False False False  True  True  True]\n"
     ]
    }
   ],
   "source": [
    "p = log_reg.predict_proba(X)\n",
    "print(p)\n",
    "print(p[:,1])\n",
    "print(p[:,1] > 0.5)"
   ]
  },
  {
   "cell_type": "markdown",
   "metadata": {},
   "source": [
    "# 4. 당뇨병 진단"
   ]
  },
  {
   "cell_type": "code",
   "execution_count": 84,
   "metadata": {},
   "outputs": [
    {
     "name": "stdout",
     "output_type": "stream",
     "text": [
      "(768, 9)\n"
     ]
    }
   ],
   "source": [
    "data = np.loadtxt(\"diabetes.csv\", delimiter=\",\", dtype=np.float32)\n",
    "print(data.shape)\n",
    "\n",
    "\"\"\"\n",
    "임신횟수\n",
    "글루코스 내성 실험 후의 혈당수치\n",
    "확장기 혈압(mm Hg)\n",
    "상완 삼두근 피부 두께 (mm)\n",
    "혈액내 인슐린 수치 (mu U/ml)\n",
    "BMI(비만도) 수치 (weight in kg/(height in m)^2)\n",
    "당뇨병 가족력: 계산식은 데이터세트의 출처에서 확인하세요.\n",
    "나이 (years)\n",
    "당뇨병 여부 (0 or 1; 1은 발병)\n",
    "\"\"\"\n",
    "\n",
    "label = [\"임신횟수\", \"글루코스 내성 실험 후의 혈당수치\", \"확장기 혈압\", \"상완 삼두근 피부 두께\",\n",
    "         \"혈액내 인슐린 수치\", \"BMI\", \"당뇨병 가족력\", \"나이\"]\n"
   ]
  },
  {
   "cell_type": "code",
   "execution_count": 85,
   "metadata": {},
   "outputs": [
    {
     "name": "stdout",
     "output_type": "stream",
     "text": [
      "(768,)\n",
      "(768, 8)\n",
      "(768,)\n"
     ]
    }
   ],
   "source": [
    "dim = 8\n",
    "x_data = data[:, 0:dim]\n",
    "y_data = data[:, dim]\n",
    "print(y_data.shape)\n",
    "print(x_data.shape)\n",
    "print(y_data.shape)"
   ]
  },
  {
   "cell_type": "code",
   "execution_count": 86,
   "metadata": {},
   "outputs": [
    {
     "data": {
      "text/plain": [
       "LogisticRegression(C=1.0, class_weight=None, dual=False, fit_intercept=True,\n",
       "                   intercept_scaling=1, l1_ratio=None, max_iter=100,\n",
       "                   multi_class='warn', n_jobs=None, penalty='l2',\n",
       "                   random_state=42, solver='liblinear', tol=0.0001, verbose=0,\n",
       "                   warm_start=False)"
      ]
     },
     "execution_count": 86,
     "metadata": {},
     "output_type": "execute_result"
    }
   ],
   "source": [
    "log_reg.fit(x_data, y_data)"
   ]
  },
  {
   "cell_type": "code",
   "execution_count": 87,
   "metadata": {},
   "outputs": [
    {
     "data": {
      "text/plain": [
       "array([[ 1.16959263e-01,  2.82731683e-02, -1.69528803e-02,\n",
       "         7.63157599e-04, -6.32655355e-04,  5.92897137e-02,\n",
       "         6.69968883e-01,  7.11253379e-03]])"
      ]
     },
     "execution_count": 87,
     "metadata": {},
     "output_type": "execute_result"
    }
   ],
   "source": [
    "log_reg.coef_"
   ]
  },
  {
   "cell_type": "code",
   "execution_count": 88,
   "metadata": {},
   "outputs": [
    {
     "data": {
      "text/plain": [
       "0.7747395833333334"
      ]
     },
     "execution_count": 88,
     "metadata": {},
     "output_type": "execute_result"
    }
   ],
   "source": [
    "np.mean(log_reg.predict(x_data) == y_data)"
   ]
  },
  {
   "cell_type": "code",
   "execution_count": 89,
   "metadata": {},
   "outputs": [
    {
     "name": "stdout",
     "output_type": "stream",
     "text": [
      "[ 8.50550815 10.31977078]\n"
     ]
    }
   ],
   "source": [
    "x_data2 = np.array([\n",
    "    [0,90,66,29,0,26.6,0.351,30],\n",
    "    [0,90,66,29,0,26.6,0.351,60],\n",
    "])\n",
    "\n",
    "\n",
    "p = log_reg.predict_proba(x_data2)\n",
    "print(p[:,1]*100)"
   ]
  },
  {
   "cell_type": "markdown",
   "metadata": {},
   "source": [
    "# 5. Softmax"
   ]
  },
  {
   "cell_type": "code",
   "execution_count": 170,
   "metadata": {},
   "outputs": [
    {
     "name": "stdout",
     "output_type": "stream",
     "text": [
      "[0.14285714 0.28571429 0.57142857]\n",
      "1.0\n"
     ]
    }
   ],
   "source": [
    "out = np.array([1.2, 2.4, 4.8])\n",
    "normal = out / sum(out)\n",
    "print(normal)\n",
    "print(  sum(normal))"
   ]
  },
  {
   "cell_type": "code",
   "execution_count": 150,
   "metadata": {},
   "outputs": [
    {
     "name": "stdout",
     "output_type": "stream",
     "text": [
      "[0.02443891 0.08114005 0.89442104]\n",
      "0.9999999999999999\n"
     ]
    }
   ],
   "source": [
    "out2 = np.exp(np.array([1.2, 2.4, 4.8]))\n",
    "normal2 = out2 / sum(out2)\n",
    "print(normal2)\n",
    "print(  sum(normal2))"
   ]
  },
  {
   "cell_type": "code",
   "execution_count": 152,
   "metadata": {},
   "outputs": [
    {
     "data": {
      "text/plain": [
       "([<matplotlib.patches.Wedge at 0x29bb82758d0>,\n",
       "  <matplotlib.patches.Wedge at 0x29bb8275da0>,\n",
       "  <matplotlib.patches.Wedge at 0x29bb8280278>],\n",
       " [Text(1.0967594940433238, 0.08437186868757104, ''),\n",
       "  Text(1.0095055673233173, 0.43691933985946146, ''),\n",
       "  Text(-1.0400441792000692, -0.35820120785956966, '')])"
      ]
     },
     "execution_count": 152,
     "metadata": {},
     "output_type": "execute_result"
    },
    {
     "data": {
      "image/png": "[encoded data removed]",
      "text/plain": [
       "<Figure size 432x288 with 2 Axes>"
      ]
     },
     "metadata": {},
     "output_type": "display_data"
    }
   ],
   "source": [
    "plt.subplot(1,2,1)\n",
    "plt.pie(out)\n",
    "plt.subplot(1,2,2)\n",
    "plt.pie(out2)"
   ]
  },
  {
   "cell_type": "markdown",
   "metadata": {},
   "source": [
    "# 6. multi-class classification"
   ]
  },
  {
   "cell_type": "code",
   "execution_count": 158,
   "metadata": {},
   "outputs": [
    {
     "data": {
      "text/plain": [
       "<matplotlib.collections.PathCollection at 0x29bb83fef60>"
      ]
     },
     "execution_count": 158,
     "metadata": {},
     "output_type": "execute_result"
    },
    {
     "data": {
      "image/png": "[encoded data removed]",
      "text/plain": [
       "<Figure size 432x288 with 1 Axes>"
      ]
     },
     "metadata": {
      "needs_background": "light"
     },
     "output_type": "display_data"
    }
   ],
   "source": [
    "data = np.loadtxt(\"class3.csv\", delimiter=\",\", dtype=np.float32)\n",
    "\n",
    "x_data = data[:, 0:2]\n",
    "y_data = data[:, 2].astype('int')\n",
    "\n",
    "d = ['blue', 'red', 'yellow']\n",
    "\n",
    "colors = [  d[i] for i in y_data]\n",
    "plt.scatter(x_data[:,0], x_data[:,1], color=colors)"
   ]
  },
  {
   "cell_type": "code",
   "execution_count": 161,
   "metadata": {},
   "outputs": [
    {
     "name": "stdout",
     "output_type": "stream",
     "text": [
      "[[0. 0. 1.]\n",
      " [1. 0. 0.]\n",
      " [1. 0. 0.]\n",
      " [1. 0. 0.]\n",
      " [0. 1. 0.]\n",
      " [0. 1. 0.]\n",
      " [0. 1. 0.]\n",
      " [0. 1. 0.]\n",
      " [0. 0. 1.]\n",
      " [0. 0. 1.]\n",
      " [0. 0. 1.]\n",
      " [0. 1. 0.]\n",
      " [0. 1. 0.]\n",
      " [0. 0. 1.]\n",
      " [0. 0. 1.]\n",
      " [1. 0. 0.]\n",
      " [0. 1. 0.]\n",
      " [1. 0. 0.]\n",
      " [0. 1. 0.]\n",
      " [0. 0. 1.]\n",
      " [1. 0. 0.]\n",
      " [1. 0. 0.]\n",
      " [0. 1. 0.]\n",
      " [1. 0. 0.]\n",
      " [1. 0. 0.]\n",
      " [0. 1. 0.]\n",
      " [0. 0. 1.]\n",
      " [1. 0. 0.]\n",
      " [0. 0. 1.]\n",
      " [0. 0. 1.]]\n"
     ]
    }
   ],
   "source": [
    "y_data_h = np.eye(3)[y_data]\n",
    "print(y_data_h)"
   ]
  },
  {
   "cell_type": "code",
   "execution_count": 164,
   "metadata": {},
   "outputs": [
    {
     "name": "stdout",
     "output_type": "stream",
     "text": [
      "(30, 3)\n",
      "[[-0.04924142 -0.05706353  0.10630495]\n",
      " [-0.20254184  0.10249367  0.10004817]\n",
      " [-0.07150635  0.86070197  0.21080438]]\n"
     ]
    }
   ],
   "source": [
    "A = np.hstack([ x_data, np.ones((30,1))  ]) \n",
    "print(A.shape)\n",
    "\n",
    "inv = lin.pinv(A)\n",
    "W = np.matmul(inv, y_data_h) \n",
    "print(W)"
   ]
  },
  {
   "cell_type": "code",
   "execution_count": 175,
   "metadata": {},
   "outputs": [
    {
     "name": "stdout",
     "output_type": "stream",
     "text": [
      "5\n",
      "[0 0 1]\n",
      "[0 2]\n"
     ]
    }
   ],
   "source": [
    "d = np.array([\n",
    "    [1.2,0.8,0.1], \n",
    "    [0.5, 0.1, 3.6]])\n",
    "\n",
    "print(np.argmax(d))\n",
    "print(np.argmax(d, axis=0))\n",
    "print(np.argmax(d, axis=1))"
   ]
  },
  {
   "cell_type": "code",
   "execution_count": 169,
   "metadata": {},
   "outputs": [
    {
     "name": "stdout",
     "output_type": "stream",
     "text": [
      "[[ 0.03016711 -0.04005712  1.00989001]\n",
      " [ 1.03054601 -0.04439159  0.01384558]\n",
      " [ 0.94846703  0.06091317 -0.0093802 ]\n",
      " [ 0.77132728  0.1460236   0.08264912]\n",
      " [ 0.04799061  0.86381926  0.08819012]\n",
      " [ 0.07086067  1.07289864 -0.14375931]\n",
      " [-0.25155106  0.97786354  0.27368752]\n",
      " [-0.04068365  1.12073402 -0.08005037]\n",
      " [ 0.081985    0.15153429  0.7664807 ]\n",
      " [ 0.19074942 -0.09799389  0.90724447]\n",
      " [-0.04665595 -0.02378017  1.07043612]\n",
      " [-0.0961833   1.0711466   0.0250367 ]\n",
      " [ 0.04971627  0.91249451  0.03778922]\n",
      " [ 0.25966605  0.03172805  0.7086059 ]\n",
      " [-0.05014889  0.16323677  0.88691212]\n",
      " [ 0.76787178  0.02034772  0.21178051]\n",
      " [ 0.01647396  0.96291319  0.02061285]\n",
      " [ 1.05962909  0.01014437 -0.06977345]\n",
      " [ 0.21932541  0.83764486 -0.05697027]\n",
      " [ 0.27705429 -0.29029668  1.01324239]\n",
      " [ 0.92451649 -0.0422417   0.11772521]\n",
      " [ 1.03726412 -0.01695854 -0.02030558]\n",
      " [ 0.19242521  0.87023881 -0.06266401]\n",
      " [ 1.13400215  0.06771217 -0.20171432]\n",
      " [ 0.85591488 -0.03816727  0.18225239]\n",
      " [ 0.18804872  0.8887625  -0.07681121]\n",
      " [-0.24621496  0.0546384   1.19157656]\n",
      " [ 0.59154223  0.23304092  0.17541685]\n",
      " [-0.22453636  0.22565852  0.99887784]\n",
      " [ 0.21043041 -0.14960695  0.93917654]]\n",
      "[2 0 0 0 1 1 1 1 2 2 2 1 1 2 2 0 1 0 1 2 0 0 1 0 0 1 2 0 2 2]\n"
     ]
    },
    {
     "data": {
      "text/plain": [
       "1.0"
      ]
     },
     "execution_count": 169,
     "metadata": {},
     "output_type": "execute_result"
    }
   ],
   "source": [
    "o = np.matmul(A, W)\n",
    "print(o)\n",
    "p = np.argmax(o, axis=1)\n",
    "print(p)\n",
    "np.mean(p == y_data)"
   ]
  },
  {
   "cell_type": "markdown",
   "metadata": {},
   "source": [
    "# 7. sklearn multi-class classification"
   ]
  },
  {
   "cell_type": "code",
   "execution_count": 123,
   "metadata": {},
   "outputs": [
    {
     "name": "stderr",
     "output_type": "stream",
     "text": [
      "d:\\Anaconda3\\lib\\site-packages\\sklearn\\linear_model\\logistic.py:469: FutureWarning: Default multi_class will be changed to 'auto' in 0.22. Specify the multi_class option to silence this warning.\n",
      "  \"this warning.\", FutureWarning)\n"
     ]
    },
    {
     "data": {
      "text/plain": [
       "LogisticRegression(C=1.0, class_weight=None, dual=False, fit_intercept=True,\n",
       "                   intercept_scaling=1, l1_ratio=None, max_iter=100,\n",
       "                   multi_class='warn', n_jobs=None, penalty='l2',\n",
       "                   random_state=42, solver='liblinear', tol=0.0001, verbose=0,\n",
       "                   warm_start=False)"
      ]
     },
     "execution_count": 123,
     "metadata": {},
     "output_type": "execute_result"
    }
   ],
   "source": [
    "log_reg.fit(x_data, y_data)"
   ]
  },
  {
   "cell_type": "code",
   "execution_count": 126,
   "metadata": {},
   "outputs": [
    {
     "name": "stdout",
     "output_type": "stream",
     "text": [
      "[[0.05495114 0.00000519 0.94504367]\n",
      " [0.98176018 0.00250056 0.01573926]\n",
      " [0.97771842 0.0073537  0.01492788]\n",
      " [0.94974861 0.00932941 0.04092198]\n",
      " [0.16958762 0.73974235 0.09067002]\n",
      " [0.20519919 0.78128598 0.01351484]\n",
      " [0.03478112 0.63089877 0.33432011]\n",
      " [0.13709278 0.83542839 0.02747882]\n",
      " [0.09242531 0.00012538 0.90744931]\n",
      " [0.11499901 0.00000556 0.88499544]\n",
      " [0.03701055 0.00000419 0.96298527]\n",
      " [0.09902648 0.83514871 0.06582481]\n",
      " [0.17021547 0.77039337 0.05939115]\n",
      " [0.18482555 0.00005854 0.81511592]\n",
      " [0.04629837 0.00006747 0.95363416]\n",
      " [0.89528134 0.00135936 0.1033593 ]\n",
      " [0.15184184 0.79403395 0.05412421]\n",
      " [0.9854568  0.00670326 0.00783994]\n",
      " [0.2914593  0.68768581 0.02085488]\n",
      " [0.13757976 0.00000051 0.86241973]\n",
      " [0.95778615 0.00135985 0.040854  ]\n",
      " [0.98412647 0.00392158 0.01195195]\n",
      " [0.27129909 0.70796643 0.02073449]\n",
      " [0.97352069 0.02403116 0.00244815]\n",
      " [0.92637229 0.00095055 0.07267716]\n",
      " [0.26852418 0.71294288 0.01853294]\n",
      " [0.01327547 0.00000404 0.98672048]\n",
      " [0.87236456 0.01262088 0.11501455]\n",
      " [0.01887393 0.0000597  0.98106638]\n",
      " [0.11880789 0.00000287 0.88118923]]\n"
     ]
    }
   ],
   "source": [
    "p = log_reg.predict_proba(x_data)\n",
    "print(p)"
   ]
  },
  {
   "cell_type": "code",
   "execution_count": 133,
   "metadata": {},
   "outputs": [
    {
     "name": "stdout",
     "output_type": "stream",
     "text": [
      "[2 0 0 0 1 1 1 1 2 2 2 1 1 2 2 0 1 0 1 2 0 0 1 0 0 1 2 0 2 2]\n",
      "[2. 0. 0. 0. 1. 1. 1. 1. 2. 2. 2. 1. 1. 2. 2. 0. 1. 0. 1. 2. 0. 0. 1. 0.\n",
      " 0. 1. 2. 0. 2. 2.]\n"
     ]
    }
   ],
   "source": [
    "print(np.argmax(p, axis=1))\n",
    "print(y_data)"
   ]
  },
  {
   "cell_type": "code",
   "execution_count": 137,
   "metadata": {},
   "outputs": [
    {
     "data": {
      "text/plain": [
       "1.0"
      ]
     },
     "execution_count": 137,
     "metadata": {},
     "output_type": "execute_result"
    }
   ],
   "source": [
    "np.mean((np.argmax(p, axis=1) == y_data ))"
   ]
  },
  {
   "cell_type": "code",
   "execution_count": 138,
   "metadata": {},
   "outputs": [
    {
     "data": {
      "text/plain": [
       "1.0"
      ]
     },
     "execution_count": 138,
     "metadata": {},
     "output_type": "execute_result"
    }
   ],
   "source": [
    "np.mean(log_reg.predict(x_data) == y_data)"
   ]
  },
  {
   "cell_type": "code",
   "execution_count": 139,
   "metadata": {},
   "outputs": [
    {
     "data": {
      "text/plain": [
       "1.0"
      ]
     },
     "execution_count": 139,
     "metadata": {},
     "output_type": "execute_result"
    }
   ],
   "source": [
    "log_reg.score(x_data, y_data)"
   ]
  }
 ],
 "metadata": {
  "kernelspec": {
   "display_name": "Python 3",
   "language": "python",
   "name": "python3"
  },
  "language_info": {
   "codemirror_mode": {
    "name": "ipython",
    "version": 3
   },
   "file_extension": ".py",
   "mimetype": "text/x-python",
   "name": "python",
   "nbconvert_exporter": "python",
   "pygments_lexer": "ipython3",
   "version": "3.8.5"
  }
 },
 "nbformat": 4,
 "nbformat_minor": 2
}
